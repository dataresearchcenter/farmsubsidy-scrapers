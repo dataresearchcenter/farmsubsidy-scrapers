{
 "cells": [
  {
   "cell_type": "code",
   "execution_count": 11,
   "metadata": {},
   "outputs": [],
   "source": [
    "import json\n",
    "import os\n",
    "import glob\n",
    "\n",
    "import requests\n",
    "import pandas as pd"
   ]
  },
  {
   "cell_type": "code",
   "execution_count": 12,
   "metadata": {},
   "outputs": [],
   "source": [
    "YEAR = 2022\n",
    "BUDGET_YEAR = 300  # check on website\n",
    "LIMIT = 1000\n",
    "BASE_URL = 'https://www.belpa.be/wsExportDataTable?limit={limit}&offset={offset}&lg=fr&budget_year={budget_year}&sort=none&&sortType=ASC&'"
   ]
  },
  {
   "cell_type": "code",
   "execution_count": 13,
   "metadata": {},
   "outputs": [],
   "source": [
    "!mkdir -p data"
   ]
  },
  {
   "cell_type": "code",
   "execution_count": 14,
   "metadata": {},
   "outputs": [
    {
     "name": "stdout",
     "output_type": "stream",
     "text": [
      "38000\n",
      "https://www.belpa.be/wsExportDataTable?limit=1000&offset=38000&lg=fr&budget_year=300&sort=none&&sortType=ASC&\n"
     ]
    }
   ],
   "source": [
    "offset = 0\n",
    "while True:\n",
    "    filename = 'data/be_raw_%s_%s.json' % (YEAR, offset)\n",
    "    if os.path.exists(filename):\n",
    "        offset += LIMIT\n",
    "        continue\n",
    "    print(offset)\n",
    "    url = BASE_URL.format(\n",
    "        limit=LIMIT,\n",
    "        offset=offset,\n",
    "        budget_year=BUDGET_YEAR\n",
    "    )\n",
    "    print(url)\n",
    "    response = requests.get(url)\n",
    "    data = response.json()\n",
    "    with open(filename, 'w') as f:\n",
    "        json.dump(data['data'][0], f)\n",
    "    if not data['pager']['nextAvalaible']:\n",
    "        break\n",
    "    offset += LIMIT"
   ]
  },
  {
   "cell_type": "code",
   "execution_count": 15,
   "metadata": {},
   "outputs": [
    {
     "data": {
      "text/html": [
       "<div>\n",
       "<style scoped>\n",
       "    .dataframe tbody tr th:only-of-type {\n",
       "        vertical-align: middle;\n",
       "    }\n",
       "\n",
       "    .dataframe tbody tr th {\n",
       "        vertical-align: top;\n",
       "    }\n",
       "\n",
       "    .dataframe thead th {\n",
       "        text-align: right;\n",
       "    }\n",
       "</style>\n",
       "<table border=\"1\" class=\"dataframe\">\n",
       "  <thead>\n",
       "    <tr style=\"text-align: right;\">\n",
       "      <th></th>\n",
       "      <th>recipient_name</th>\n",
       "      <th>recipient_postcode</th>\n",
       "      <th>recipient_location</th>\n",
       "      <th>year</th>\n",
       "      <th>scheme</th>\n",
       "      <th>amount</th>\n",
       "      <th>currency</th>\n",
       "      <th>country</th>\n",
       "      <th>recipient_id</th>\n",
       "    </tr>\n",
       "  </thead>\n",
       "  <tbody>\n",
       "    <tr>\n",
       "      <th>0</th>\n",
       "      <td>CORNET ALBERT</td>\n",
       "      <td>BE-6987</td>\n",
       "      <td>Rendeux</td>\n",
       "      <td>2022</td>\n",
       "      <td>feader</td>\n",
       "      <td>293.50</td>\n",
       "      <td>EUR</td>\n",
       "      <td>BE</td>\n",
       "      <td>BE-2022-8282</td>\n",
       "    </tr>\n",
       "    <tr>\n",
       "      <th>1</th>\n",
       "      <td>CORNET ALBERT</td>\n",
       "      <td>BE-6987</td>\n",
       "      <td>Rendeux</td>\n",
       "      <td>2022</td>\n",
       "      <td>ii1</td>\n",
       "      <td>476.99</td>\n",
       "      <td>EUR</td>\n",
       "      <td>BE</td>\n",
       "      <td>BE-2022-8282</td>\n",
       "    </tr>\n",
       "    <tr>\n",
       "      <th>2</th>\n",
       "      <td>CORNET ALBERT</td>\n",
       "      <td>BE-6987</td>\n",
       "      <td>Rendeux</td>\n",
       "      <td>2022</td>\n",
       "      <td>ii3</td>\n",
       "      <td>722.01</td>\n",
       "      <td>EUR</td>\n",
       "      <td>BE</td>\n",
       "      <td>BE-2022-8282</td>\n",
       "    </tr>\n",
       "    <tr>\n",
       "      <th>3</th>\n",
       "      <td>CORNET ALBERT</td>\n",
       "      <td>BE-6987</td>\n",
       "      <td>Rendeux</td>\n",
       "      <td>2022</td>\n",
       "      <td>ii4</td>\n",
       "      <td>454.09</td>\n",
       "      <td>EUR</td>\n",
       "      <td>BE</td>\n",
       "      <td>BE-2022-8282</td>\n",
       "    </tr>\n",
       "    <tr>\n",
       "      <th>4</th>\n",
       "      <td>CORNET ALBERT</td>\n",
       "      <td>BE-6987</td>\n",
       "      <td>Rendeux</td>\n",
       "      <td>2022</td>\n",
       "      <td>iv18</td>\n",
       "      <td>293.50</td>\n",
       "      <td>EUR</td>\n",
       "      <td>BE</td>\n",
       "      <td>BE-2022-8282</td>\n",
       "    </tr>\n",
       "  </tbody>\n",
       "</table>\n",
       "</div>"
      ],
      "text/plain": [
       "  recipient_name recipient_postcode recipient_location  year  scheme  amount  \\\n",
       "0  CORNET ALBERT            BE-6987            Rendeux  2022  feader  293.50   \n",
       "1  CORNET ALBERT            BE-6987            Rendeux  2022     ii1  476.99   \n",
       "2  CORNET ALBERT            BE-6987            Rendeux  2022     ii3  722.01   \n",
       "3  CORNET ALBERT            BE-6987            Rendeux  2022     ii4  454.09   \n",
       "4  CORNET ALBERT            BE-6987            Rendeux  2022    iv18  293.50   \n",
       "\n",
       "  currency country  recipient_id  \n",
       "0      EUR      BE  BE-2022-8282  \n",
       "1      EUR      BE  BE-2022-8282  \n",
       "2      EUR      BE  BE-2022-8282  \n",
       "3      EUR      BE  BE-2022-8282  \n",
       "4      EUR      BE  BE-2022-8282  "
      ]
     },
     "execution_count": 15,
     "metadata": {},
     "output_type": "execute_result"
    }
   ],
   "source": [
    "def parse_data(data):\n",
    "    for amount_key in data['amount'].keys():\n",
    "        if amount_key.endswith(('_total', '_feaga')):\n",
    "            # ignore total and total of feaga (sub feaga amounts are present)\n",
    "            continue\n",
    "        scheme = amount_key.replace('field_mnt_', '')\n",
    "        yield {\n",
    "            'recipient_name': data['organisation']['label'],\n",
    "            'recipient_postcode': data['organisation']['code_postal'],\n",
    "            'recipient_location': data['organisation']['state'],\n",
    "            'year': int(data['year']),\n",
    "            'scheme': scheme,\n",
    "            'amount': float(data['amount'][amount_key]),\n",
    "            'currency': 'EUR',\n",
    "            'country': 'BE',\n",
    "            'recipient_id': 'BE-{}-{}'.format(YEAR, data['organisation']['id'])\n",
    "        }\n",
    "\n",
    "def get_data(year):\n",
    "    for filename in glob.glob('data/be_raw_{}_*'.format(year)):\n",
    "        with open(filename) as f:\n",
    "            for x in json.load(f):\n",
    "                yield from parse_data(x)\n",
    "            \n",
    "df = pd.DataFrame(get_data(YEAR))\n",
    "df.head()"
   ]
  },
  {
   "cell_type": "code",
   "execution_count": 16,
   "metadata": {},
   "outputs": [],
   "source": [
    "df.to_csv('be_{}.csv.gz'.format(YEAR), index=False, encoding='utf-8', compression='gzip')"
   ]
  },
  {
   "cell_type": "code",
   "execution_count": 17,
   "metadata": {},
   "outputs": [
    {
     "data": {
      "text/plain": [
       "171625"
      ]
     },
     "execution_count": 17,
     "metadata": {},
     "output_type": "execute_result"
    }
   ],
   "source": [
    "len(df)"
   ]
  },
  {
   "cell_type": "code",
   "execution_count": null,
   "metadata": {},
   "outputs": [],
   "source": []
  }
 ],
 "metadata": {
  "kernelspec": {
   "display_name": "Python 3",
   "language": "python",
   "name": "python3"
  },
  "language_info": {
   "codemirror_mode": {
    "name": "ipython",
    "version": 3
   },
   "file_extension": ".py",
   "mimetype": "text/x-python",
   "name": "python",
   "nbconvert_exporter": "python",
   "pygments_lexer": "ipython3",
   "version": "3.9.18"
  }
 },
 "nbformat": 4,
 "nbformat_minor": 2
}
