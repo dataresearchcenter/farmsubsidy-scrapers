{
 "cells": [
  {
   "cell_type": "code",
   "execution_count": 19,
   "metadata": {},
   "outputs": [],
   "source": [
    "import json\n",
    "import os\n",
    "import glob\n",
    "\n",
    "import requests\n",
    "import pandas as pd"
   ]
  },
  {
   "cell_type": "code",
   "execution_count": 6,
   "metadata": {},
   "outputs": [],
   "source": [
    "YEAR = 2018\n",
    "LIMIT = 1000\n",
    "BASE_URL = 'https://www.belpa.be/wsExportDataTable?limit={limit}&offset={offset}&lg=fr&budget_year=54&sort=none&&sortType=ASC&'"
   ]
  },
  {
   "cell_type": "code",
   "execution_count": 31,
   "metadata": {},
   "outputs": [],
   "source": [
    "!mkdir -p data"
   ]
  },
  {
   "cell_type": "code",
   "execution_count": 18,
   "metadata": {},
   "outputs": [
    {
     "name": "stdout",
     "output_type": "stream",
     "text": [
      "31000\n",
      "32000\n",
      "33000\n",
      "34000\n",
      "35000\n",
      "36000\n",
      "37000\n",
      "38000\n"
     ]
    }
   ],
   "source": [
    "offset = 0\n",
    "while True:\n",
    "    filename = 'data/be_raw_%s_%s.json' % (YEAR, offset)\n",
    "    if os.path.exists(filename):\n",
    "        offset += LIMIT\n",
    "        continue\n",
    "    print(offset)\n",
    "    response = requests.get(BASE_URL.format(\n",
    "        limit=LIMIT,\n",
    "        offset=offset\n",
    "    ))\n",
    "    data = response.json()\n",
    "    with open(filename, 'w') as f:\n",
    "        json.dump(data['data'][0], f)\n",
    "    if not data['pager']['nextAvalaible']:\n",
    "        break\n",
    "    offset += LIMIT"
   ]
  },
  {
   "cell_type": "code",
   "execution_count": 29,
   "metadata": {},
   "outputs": [
    {
     "data": {
      "text/html": [
       "<div>\n",
       "<style scoped>\n",
       "    .dataframe tbody tr th:only-of-type {\n",
       "        vertical-align: middle;\n",
       "    }\n",
       "\n",
       "    .dataframe tbody tr th {\n",
       "        vertical-align: top;\n",
       "    }\n",
       "\n",
       "    .dataframe thead th {\n",
       "        text-align: right;\n",
       "    }\n",
       "</style>\n",
       "<table border=\"1\" class=\"dataframe\">\n",
       "  <thead>\n",
       "    <tr style=\"text-align: right;\">\n",
       "      <th></th>\n",
       "      <th>amount</th>\n",
       "      <th>country</th>\n",
       "      <th>currency</th>\n",
       "      <th>recipient_id</th>\n",
       "      <th>recipient_location</th>\n",
       "      <th>recipient_name</th>\n",
       "      <th>recipient_postcode</th>\n",
       "      <th>scheme</th>\n",
       "      <th>year</th>\n",
       "    </tr>\n",
       "  </thead>\n",
       "  <tbody>\n",
       "    <tr>\n",
       "      <th>0</th>\n",
       "      <td>-2505.23</td>\n",
       "      <td>BE</td>\n",
       "      <td>EUR</td>\n",
       "      <td>BE-2018-8045</td>\n",
       "      <td>Sombreffe</td>\n",
       "      <td>ELIARD ETIENNE - COULON SABINE EP.</td>\n",
       "      <td>5140</td>\n",
       "      <td>feader</td>\n",
       "      <td>2018</td>\n",
       "    </tr>\n",
       "    <tr>\n",
       "      <th>1</th>\n",
       "      <td>-2505.23</td>\n",
       "      <td>BE</td>\n",
       "      <td>EUR</td>\n",
       "      <td>BE-2018-8045</td>\n",
       "      <td>Sombreffe</td>\n",
       "      <td>ELIARD ETIENNE - COULON SABINE EP.</td>\n",
       "      <td>5140</td>\n",
       "      <td>vb1_6</td>\n",
       "      <td>2018</td>\n",
       "    </tr>\n",
       "    <tr>\n",
       "      <th>2</th>\n",
       "      <td>5840.87</td>\n",
       "      <td>BE</td>\n",
       "      <td>EUR</td>\n",
       "      <td>BE-2018-8045</td>\n",
       "      <td>Sombreffe</td>\n",
       "      <td>LOSSON MICHEL</td>\n",
       "      <td>5140</td>\n",
       "      <td>ii1</td>\n",
       "      <td>2018</td>\n",
       "    </tr>\n",
       "    <tr>\n",
       "      <th>3</th>\n",
       "      <td>241.41</td>\n",
       "      <td>BE</td>\n",
       "      <td>EUR</td>\n",
       "      <td>BE-2018-8045</td>\n",
       "      <td>Sombreffe</td>\n",
       "      <td>LOSSON MICHEL</td>\n",
       "      <td>5140</td>\n",
       "      <td>ii10</td>\n",
       "      <td>2018</td>\n",
       "    </tr>\n",
       "    <tr>\n",
       "      <th>4</th>\n",
       "      <td>3623.39</td>\n",
       "      <td>BE</td>\n",
       "      <td>EUR</td>\n",
       "      <td>BE-2018-8045</td>\n",
       "      <td>Sombreffe</td>\n",
       "      <td>LOSSON MICHEL</td>\n",
       "      <td>5140</td>\n",
       "      <td>ii3</td>\n",
       "      <td>2018</td>\n",
       "    </tr>\n",
       "  </tbody>\n",
       "</table>\n",
       "</div>"
      ],
      "text/plain": [
       "    amount country currency  recipient_id recipient_location  \\\n",
       "0 -2505.23      BE      EUR  BE-2018-8045          Sombreffe   \n",
       "1 -2505.23      BE      EUR  BE-2018-8045          Sombreffe   \n",
       "2  5840.87      BE      EUR  BE-2018-8045          Sombreffe   \n",
       "3   241.41      BE      EUR  BE-2018-8045          Sombreffe   \n",
       "4  3623.39      BE      EUR  BE-2018-8045          Sombreffe   \n",
       "\n",
       "                       recipient_name recipient_postcode  scheme  year  \n",
       "0  ELIARD ETIENNE - COULON SABINE EP.               5140  feader  2018  \n",
       "1  ELIARD ETIENNE - COULON SABINE EP.               5140   vb1_6  2018  \n",
       "2                       LOSSON MICHEL               5140     ii1  2018  \n",
       "3                       LOSSON MICHEL               5140    ii10  2018  \n",
       "4                       LOSSON MICHEL               5140     ii3  2018  "
      ]
     },
     "execution_count": 29,
     "metadata": {},
     "output_type": "execute_result"
    }
   ],
   "source": [
    "\n",
    "\n",
    "def parse_data(data):\n",
    "    for amount_key in data['amount'].keys():\n",
    "        if amount_key.endswith(('_total', '_feaga')):\n",
    "            # ignore total and total of feaga (sub feaga amounts are present)\n",
    "            continue\n",
    "        scheme = amount_key.replace('field_mnt_', '')\n",
    "        yield {\n",
    "            'recipient_name': data['organisation']['label'],\n",
    "            'recipient_postcode': data['organisation']['code_postal'],\n",
    "            'recipient_location': data['organisation']['state'],\n",
    "            'year': int(data['year']),\n",
    "            'scheme': scheme,\n",
    "            'amount': float(data['amount'][amount_key]),\n",
    "            'currency': 'EUR',\n",
    "            'country': 'BE',\n",
    "            'recipient_id': 'BE-{}-{}'.format(YEAR, data['organisation']['id'])\n",
    "        }\n",
    "\n",
    "def get_data(year):\n",
    "    for filename in glob.glob('data/be_raw_{}_*'.format(year)):\n",
    "        with open(filename) as f:\n",
    "            for x in json.load(f):\n",
    "                yield from parse_data(x)\n",
    "            \n",
    "df = pd.DataFrame(get_data(2018))\n",
    "df.head()"
   ]
  },
  {
   "cell_type": "code",
   "execution_count": 30,
   "metadata": {},
   "outputs": [],
   "source": [
    "df.to_csv('be_{}.csv.gz'.format(YEAR), index=False, encoding='utf-8', compression='gzip')"
   ]
  }
 ],
 "metadata": {
  "kernelspec": {
   "display_name": "Python 3",
   "language": "python",
   "name": "python3"
  },
  "language_info": {
   "codemirror_mode": {
    "name": "ipython",
    "version": 3
   },
   "file_extension": ".py",
   "mimetype": "text/x-python",
   "name": "python",
   "nbconvert_exporter": "python",
   "pygments_lexer": "ipython3",
   "version": "3.6.8"
  }
 },
 "nbformat": 4,
 "nbformat_minor": 2
}
