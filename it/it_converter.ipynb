{
 "cells": [
  {
   "cell_type": "code",
   "execution_count": 1,
   "metadata": {},
   "outputs": [],
   "source": [
    "import pandas as pd"
   ]
  },
  {
   "cell_type": "code",
   "execution_count": 2,
   "metadata": {},
   "outputs": [],
   "source": [
    "YEAR = 2017"
   ]
  },
  {
   "cell_type": "code",
   "execution_count": 3,
   "metadata": {},
   "outputs": [
    {
     "data": {
      "text/html": [
       "<div>\n",
       "<style scoped>\n",
       "    .dataframe tbody tr th:only-of-type {\n",
       "        vertical-align: middle;\n",
       "    }\n",
       "\n",
       "    .dataframe tbody tr th {\n",
       "        vertical-align: top;\n",
       "    }\n",
       "\n",
       "    .dataframe thead th {\n",
       "        text-align: right;\n",
       "    }\n",
       "</style>\n",
       "<table border=\"1\" class=\"dataframe\">\n",
       "  <thead>\n",
       "    <tr style=\"text-align: right;\">\n",
       "      <th></th>\n",
       "      <th>recipient_id</th>\n",
       "      <th>recipient_location</th>\n",
       "      <th>recipient_name</th>\n",
       "      <th>recipient_postcode</th>\n",
       "      <th>total_amount</th>\n",
       "    </tr>\n",
       "  </thead>\n",
       "  <tbody>\n",
       "    <tr>\n",
       "      <th>0</th>\n",
       "      <td>unaprol-consorzio-olivicolo-italiano-societa-c...</td>\n",
       "      <td>ROMA, ROMA</td>\n",
       "      <td>UNAPROL - CONSORZIO OLIVICOLO ITALIANO SOCIETA...</td>\n",
       "      <td>00187</td>\n",
       "      <td>11607652.26</td>\n",
       "    </tr>\n",
       "    <tr>\n",
       "      <th>1</th>\n",
       "      <td>consorzio-nazionale-degli-olivicoltori-societa...</td>\n",
       "      <td>ROMA, ROMA</td>\n",
       "      <td>CONSORZIO NAZIONALE DEGLI OLIVICOLTORI SOCIETA...</td>\n",
       "      <td>00187</td>\n",
       "      <td>8045116.55</td>\n",
       "    </tr>\n",
       "    <tr>\n",
       "      <th>2</th>\n",
       "      <td>genagricola-spa-34132-trieste-trieste</td>\n",
       "      <td>TRIESTE, TRIESTE</td>\n",
       "      <td>GENAGRICOLA SPA</td>\n",
       "      <td>34132</td>\n",
       "      <td>4686814.50</td>\n",
       "    </tr>\n",
       "    <tr>\n",
       "      <th>3</th>\n",
       "      <td>consiglio-per-la-ricerca-in-agricoltura-e-l-an...</td>\n",
       "      <td>ROMA, ROMA</td>\n",
       "      <td>CONSIGLIO PER LA RICERCA IN AGRICOLTURA E L'AN...</td>\n",
       "      <td>00198</td>\n",
       "      <td>3537866.93</td>\n",
       "    </tr>\n",
       "    <tr>\n",
       "      <th>4</th>\n",
       "      <td>genagricola-spa-34132-trieste-trieste</td>\n",
       "      <td>TRIESTE, TRIESTE</td>\n",
       "      <td>GENAGRICOLA SPA</td>\n",
       "      <td>34132</td>\n",
       "      <td>4686814.50</td>\n",
       "    </tr>\n",
       "  </tbody>\n",
       "</table>\n",
       "</div>"
      ],
      "text/plain": [
       "                                        recipient_id recipient_location  \\\n",
       "0  unaprol-consorzio-olivicolo-italiano-societa-c...         ROMA, ROMA   \n",
       "1  consorzio-nazionale-degli-olivicoltori-societa...         ROMA, ROMA   \n",
       "2              genagricola-spa-34132-trieste-trieste   TRIESTE, TRIESTE   \n",
       "3  consiglio-per-la-ricerca-in-agricoltura-e-l-an...         ROMA, ROMA   \n",
       "4              genagricola-spa-34132-trieste-trieste   TRIESTE, TRIESTE   \n",
       "\n",
       "                                      recipient_name recipient_postcode  \\\n",
       "0  UNAPROL - CONSORZIO OLIVICOLO ITALIANO SOCIETA...              00187   \n",
       "1  CONSORZIO NAZIONALE DEGLI OLIVICOLTORI SOCIETA...              00187   \n",
       "2                                    GENAGRICOLA SPA              34132   \n",
       "3  CONSIGLIO PER LA RICERCA IN AGRICOLTURA E L'AN...              00198   \n",
       "4                                    GENAGRICOLA SPA              34132   \n",
       "\n",
       "   total_amount  \n",
       "0   11607652.26  \n",
       "1    8045116.55  \n",
       "2    4686814.50  \n",
       "3    3537866.93  \n",
       "4    4686814.50  "
      ]
     },
     "execution_count": 3,
     "metadata": {},
     "output_type": "execute_result"
    }
   ],
   "source": [
    "df = pd.read_csv('it_{}_raw.csv.gz'.format(YEAR), converters={'recipient_postcode': str})\n",
    "df.head()"
   ]
  },
  {
   "cell_type": "code",
   "execution_count": 4,
   "metadata": {},
   "outputs": [
    {
     "data": {
      "text/plain": [
       "2275452"
      ]
     },
     "execution_count": 4,
     "metadata": {},
     "output_type": "execute_result"
    }
   ],
   "source": [
    "len(df)"
   ]
  },
  {
   "cell_type": "code",
   "execution_count": 5,
   "metadata": {},
   "outputs": [
    {
     "data": {
      "text/plain": [
       "548606"
      ]
     },
     "execution_count": 5,
     "metadata": {},
     "output_type": "execute_result"
    }
   ],
   "source": [
    "(~df.duplicated()).sum()"
   ]
  },
  {
   "cell_type": "code",
   "execution_count": 6,
   "metadata": {},
   "outputs": [
    {
     "data": {
      "text/plain": [
       "548606"
      ]
     },
     "execution_count": 6,
     "metadata": {},
     "output_type": "execute_result"
    }
   ],
   "source": [
    "df = df[~df.duplicated()]\n",
    "len(df)"
   ]
  },
  {
   "cell_type": "code",
   "execution_count": 7,
   "metadata": {},
   "outputs": [
    {
     "data": {
      "text/html": [
       "<div>\n",
       "<style scoped>\n",
       "    .dataframe tbody tr th:only-of-type {\n",
       "        vertical-align: middle;\n",
       "    }\n",
       "\n",
       "    .dataframe tbody tr th {\n",
       "        vertical-align: top;\n",
       "    }\n",
       "\n",
       "    .dataframe thead th {\n",
       "        text-align: right;\n",
       "    }\n",
       "</style>\n",
       "<table border=\"1\" class=\"dataframe\">\n",
       "  <thead>\n",
       "    <tr style=\"text-align: right;\">\n",
       "      <th></th>\n",
       "      <th>recipient_id</th>\n",
       "      <th>recipient_location</th>\n",
       "      <th>recipient_name</th>\n",
       "      <th>recipient_postcode</th>\n",
       "      <th>amount</th>\n",
       "      <th>scheme</th>\n",
       "      <th>currency</th>\n",
       "      <th>country</th>\n",
       "    </tr>\n",
       "  </thead>\n",
       "  <tbody>\n",
       "    <tr>\n",
       "      <th>0</th>\n",
       "      <td>unaprol-consorzio-olivicolo-italiano-societa-c...</td>\n",
       "      <td>ROMA, ROMA</td>\n",
       "      <td>UNAPROL - CONSORZIO OLIVICOLO ITALIANO SOCIETA...</td>\n",
       "      <td>00187</td>\n",
       "      <td>11607652.26</td>\n",
       "      <td>__total__</td>\n",
       "      <td>EUR</td>\n",
       "      <td>IT</td>\n",
       "    </tr>\n",
       "    <tr>\n",
       "      <th>1</th>\n",
       "      <td>consorzio-nazionale-degli-olivicoltori-societa...</td>\n",
       "      <td>ROMA, ROMA</td>\n",
       "      <td>CONSORZIO NAZIONALE DEGLI OLIVICOLTORI SOCIETA...</td>\n",
       "      <td>00187</td>\n",
       "      <td>8045116.55</td>\n",
       "      <td>__total__</td>\n",
       "      <td>EUR</td>\n",
       "      <td>IT</td>\n",
       "    </tr>\n",
       "    <tr>\n",
       "      <th>2</th>\n",
       "      <td>genagricola-spa-34132-trieste-trieste</td>\n",
       "      <td>TRIESTE, TRIESTE</td>\n",
       "      <td>GENAGRICOLA SPA</td>\n",
       "      <td>34132</td>\n",
       "      <td>4686814.50</td>\n",
       "      <td>__total__</td>\n",
       "      <td>EUR</td>\n",
       "      <td>IT</td>\n",
       "    </tr>\n",
       "    <tr>\n",
       "      <th>3</th>\n",
       "      <td>consiglio-per-la-ricerca-in-agricoltura-e-l-an...</td>\n",
       "      <td>ROMA, ROMA</td>\n",
       "      <td>CONSIGLIO PER LA RICERCA IN AGRICOLTURA E L'AN...</td>\n",
       "      <td>00198</td>\n",
       "      <td>3537866.93</td>\n",
       "      <td>__total__</td>\n",
       "      <td>EUR</td>\n",
       "      <td>IT</td>\n",
       "    </tr>\n",
       "    <tr>\n",
       "      <th>5</th>\n",
       "      <td>finlombarda-finanziaria-per-lo-sviluppo-della-...</td>\n",
       "      <td>MILANO, MILANO</td>\n",
       "      <td>FINLOMBARDA - FINANZIARIA PER LO SVILUPPO DELL...</td>\n",
       "      <td>20124</td>\n",
       "      <td>3578960.00</td>\n",
       "      <td>__total__</td>\n",
       "      <td>EUR</td>\n",
       "      <td>IT</td>\n",
       "    </tr>\n",
       "  </tbody>\n",
       "</table>\n",
       "</div>"
      ],
      "text/plain": [
       "                                        recipient_id recipient_location  \\\n",
       "0  unaprol-consorzio-olivicolo-italiano-societa-c...         ROMA, ROMA   \n",
       "1  consorzio-nazionale-degli-olivicoltori-societa...         ROMA, ROMA   \n",
       "2              genagricola-spa-34132-trieste-trieste   TRIESTE, TRIESTE   \n",
       "3  consiglio-per-la-ricerca-in-agricoltura-e-l-an...         ROMA, ROMA   \n",
       "5  finlombarda-finanziaria-per-lo-sviluppo-della-...     MILANO, MILANO   \n",
       "\n",
       "                                      recipient_name recipient_postcode  \\\n",
       "0  UNAPROL - CONSORZIO OLIVICOLO ITALIANO SOCIETA...              00187   \n",
       "1  CONSORZIO NAZIONALE DEGLI OLIVICOLTORI SOCIETA...              00187   \n",
       "2                                    GENAGRICOLA SPA              34132   \n",
       "3  CONSIGLIO PER LA RICERCA IN AGRICOLTURA E L'AN...              00198   \n",
       "5  FINLOMBARDA - FINANZIARIA PER LO SVILUPPO DELL...              20124   \n",
       "\n",
       "        amount     scheme currency country  \n",
       "0  11607652.26  __total__      EUR      IT  \n",
       "1   8045116.55  __total__      EUR      IT  \n",
       "2   4686814.50  __total__      EUR      IT  \n",
       "3   3537866.93  __total__      EUR      IT  \n",
       "5   3578960.00  __total__      EUR      IT  "
      ]
     },
     "execution_count": 7,
     "metadata": {},
     "output_type": "execute_result"
    }
   ],
   "source": [
    "df = df.rename(columns={'total_amount': 'amount'})\n",
    "df['scheme'] = '__total__'\n",
    "df['recipient_postcode'] = df['recipient_postcode'].apply(lambda x: x.replace('.0', '').zfill(5))\n",
    "df['currency'] = 'EUR'\n",
    "df['country'] = 'IT'\n",
    "df.head()"
   ]
  },
  {
   "cell_type": "code",
   "execution_count": 10,
   "metadata": {},
   "outputs": [],
   "source": [
    "df['year'] = YEAR"
   ]
  },
  {
   "cell_type": "code",
   "execution_count": 11,
   "metadata": {},
   "outputs": [
    {
     "data": {
      "text/plain": [
       "'4,568,788,319.44'"
      ]
     },
     "execution_count": 11,
     "metadata": {},
     "output_type": "execute_result"
    }
   ],
   "source": [
    "'{:,}'.format(df['amount'].sum())"
   ]
  },
  {
   "cell_type": "code",
   "execution_count": 12,
   "metadata": {},
   "outputs": [],
   "source": [
    "df.to_csv('it_{}.csv.gz'.format(YEAR), compression='gzip', index=False)"
   ]
  }
 ],
 "metadata": {
  "kernelspec": {
   "display_name": "Python 3",
   "language": "python",
   "name": "python3"
  },
  "language_info": {
   "codemirror_mode": {
    "name": "ipython",
    "version": 3
   },
   "file_extension": ".py",
   "mimetype": "text/x-python",
   "name": "python",
   "nbconvert_exporter": "python",
   "pygments_lexer": "ipython3",
   "version": "3.5.2"
  }
 },
 "nbformat": 4,
 "nbformat_minor": 2
}
