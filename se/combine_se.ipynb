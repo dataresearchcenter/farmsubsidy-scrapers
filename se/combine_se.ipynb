{
 "cells": [
  {
   "cell_type": "code",
   "execution_count": 9,
   "metadata": {},
   "outputs": [],
   "source": [
    "import dask.dataframe as dd"
   ]
  },
  {
   "cell_type": "code",
   "execution_count": 10,
   "metadata": {},
   "outputs": [],
   "source": [
    "YEAR = 2018"
   ]
  },
  {
   "cell_type": "code",
   "execution_count": 11,
   "metadata": {},
   "outputs": [
    {
     "data": {
      "text/html": [
       "<div>\n",
       "<style scoped>\n",
       "    .dataframe tbody tr th:only-of-type {\n",
       "        vertical-align: middle;\n",
       "    }\n",
       "\n",
       "    .dataframe tbody tr th {\n",
       "        vertical-align: top;\n",
       "    }\n",
       "\n",
       "    .dataframe thead th {\n",
       "        text-align: right;\n",
       "    }\n",
       "</style>\n",
       "<table border=\"1\" class=\"dataframe\">\n",
       "  <thead>\n",
       "    <tr style=\"text-align: right;\">\n",
       "      <th></th>\n",
       "      <th>amount</th>\n",
       "      <th>country</th>\n",
       "      <th>currency</th>\n",
       "      <th>recipient_id</th>\n",
       "      <th>recipient_location</th>\n",
       "      <th>recipient_name</th>\n",
       "      <th>recipient_postcode</th>\n",
       "      <th>scheme</th>\n",
       "      <th>year</th>\n",
       "    </tr>\n",
       "  </thead>\n",
       "  <tbody>\n",
       "    <tr>\n",
       "      <th>0</th>\n",
       "      <td>43327.0</td>\n",
       "      <td>SE</td>\n",
       "      <td>SEK</td>\n",
       "      <td>se-allergon-ab-26292-angelholm</td>\n",
       "      <td>Ängelholm, Helsingborg, Skåne län</td>\n",
       "      <td>ALLERGON AB</td>\n",
       "      <td>26292</td>\n",
       "      <td>Garantifonden direktstöd: II.1, Ordningen för ...</td>\n",
       "      <td>2018</td>\n",
       "    </tr>\n",
       "    <tr>\n",
       "      <th>1</th>\n",
       "      <td>23779.0</td>\n",
       "      <td>SE</td>\n",
       "      <td>SEK</td>\n",
       "      <td>se-allergon-ab-26292-angelholm</td>\n",
       "      <td>Ängelholm, Helsingborg, Skåne län</td>\n",
       "      <td>ALLERGON AB</td>\n",
       "      <td>26292</td>\n",
       "      <td>Garantifonden direktstöd: II.4, Stöd för jordb...</td>\n",
       "      <td>2018</td>\n",
       "    </tr>\n",
       "    <tr>\n",
       "      <th>2</th>\n",
       "      <td>649.0</td>\n",
       "      <td>SE</td>\n",
       "      <td>SEK</td>\n",
       "      <td>se-allergon-ab-26292-angelholm</td>\n",
       "      <td>Ängelholm, Helsingborg, Skåne län</td>\n",
       "      <td>ALLERGON AB</td>\n",
       "      <td>26292</td>\n",
       "      <td>Garantifonden direktstöd: II.10, Återbetalning...</td>\n",
       "      <td>2018</td>\n",
       "    </tr>\n",
       "    <tr>\n",
       "      <th>3</th>\n",
       "      <td>23743.0</td>\n",
       "      <td>SE</td>\n",
       "      <td>SEK</td>\n",
       "      <td>se-svensson-sven-olof-artur-68597-ostmark</td>\n",
       "      <td>Östmark, Torsby, Värmlands län</td>\n",
       "      <td>,SVENSSON SVEN OLOF ARTUR</td>\n",
       "      <td>68597</td>\n",
       "      <td>Garantifonden direktstöd: II.7, Frivilligt kop...</td>\n",
       "      <td>2018</td>\n",
       "    </tr>\n",
       "    <tr>\n",
       "      <th>4</th>\n",
       "      <td>51009.0</td>\n",
       "      <td>SE</td>\n",
       "      <td>SEK</td>\n",
       "      <td>se-svensson-sven-olof-artur-68597-ostmark</td>\n",
       "      <td>Östmark, Torsby, Värmlands län</td>\n",
       "      <td>,SVENSSON SVEN OLOF ARTUR</td>\n",
       "      <td>68597</td>\n",
       "      <td>Garantifonden direktstöd: II.1, Ordningen för ...</td>\n",
       "      <td>2018</td>\n",
       "    </tr>\n",
       "  </tbody>\n",
       "</table>\n",
       "</div>"
      ],
      "text/plain": [
       "    amount country currency                               recipient_id  \\\n",
       "0  43327.0      SE      SEK             se-allergon-ab-26292-angelholm   \n",
       "1  23779.0      SE      SEK             se-allergon-ab-26292-angelholm   \n",
       "2    649.0      SE      SEK             se-allergon-ab-26292-angelholm   \n",
       "3  23743.0      SE      SEK  se-svensson-sven-olof-artur-68597-ostmark   \n",
       "4  51009.0      SE      SEK  se-svensson-sven-olof-artur-68597-ostmark   \n",
       "\n",
       "                  recipient_location             recipient_name  \\\n",
       "0  Ängelholm, Helsingborg, Skåne län                ALLERGON AB   \n",
       "1  Ängelholm, Helsingborg, Skåne län                ALLERGON AB   \n",
       "2  Ängelholm, Helsingborg, Skåne län                ALLERGON AB   \n",
       "3     Östmark, Torsby, Värmlands län  ,SVENSSON SVEN OLOF ARTUR   \n",
       "4     Östmark, Torsby, Värmlands län  ,SVENSSON SVEN OLOF ARTUR   \n",
       "\n",
       "  recipient_postcode                                             scheme  year  \n",
       "0              26292  Garantifonden direktstöd: II.1, Ordningen för ...  2018  \n",
       "1              26292  Garantifonden direktstöd: II.4, Stöd för jordb...  2018  \n",
       "2              26292  Garantifonden direktstöd: II.10, Återbetalning...  2018  \n",
       "3              68597  Garantifonden direktstöd: II.7, Frivilligt kop...  2018  \n",
       "4              68597  Garantifonden direktstöd: II.1, Ordningen för ...  2018  "
      ]
     },
     "execution_count": 11,
     "metadata": {},
     "output_type": "execute_result"
    }
   ],
   "source": [
    "df = dd.read_csv('data/SE_{}*.csv.gz'.format(YEAR), compression='gzip', dtype={'recipient_postcode': str}).compute()\n",
    "df.head()"
   ]
  },
  {
   "cell_type": "code",
   "execution_count": 12,
   "metadata": {},
   "outputs": [
    {
     "data": {
      "text/plain": [
       "0"
      ]
     },
     "execution_count": 12,
     "metadata": {},
     "output_type": "execute_result"
    }
   ],
   "source": [
    "df.duplicated().sum()"
   ]
  },
  {
   "cell_type": "code",
   "execution_count": 13,
   "metadata": {},
   "outputs": [],
   "source": [
    "df = df.drop_duplicates()"
   ]
  },
  {
   "cell_type": "code",
   "execution_count": 14,
   "metadata": {},
   "outputs": [
    {
     "data": {
      "text/plain": [
       "63858"
      ]
     },
     "execution_count": 14,
     "metadata": {},
     "output_type": "execute_result"
    }
   ],
   "source": [
    "df['recipient_id'].nunique()"
   ]
  },
  {
   "cell_type": "code",
   "execution_count": 15,
   "metadata": {},
   "outputs": [],
   "source": [
    "df.to_csv('se_{}.csv.gz'.format(YEAR), compression='gzip', index=False)"
   ]
  }
 ],
 "metadata": {
  "kernelspec": {
   "display_name": "Python 3",
   "language": "python",
   "name": "python3"
  },
  "language_info": {
   "codemirror_mode": {
    "name": "ipython",
    "version": 3
   },
   "file_extension": ".py",
   "mimetype": "text/x-python",
   "name": "python",
   "nbconvert_exporter": "python",
   "pygments_lexer": "ipython3",
   "version": "3.6.8"
  }
 },
 "nbformat": 4,
 "nbformat_minor": 2
}
