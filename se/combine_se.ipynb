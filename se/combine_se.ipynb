{
 "cells": [
  {
   "cell_type": "code",
   "execution_count": 4,
   "metadata": {},
   "outputs": [],
   "source": [
    "import dask.dataframe as dd"
   ]
  },
  {
   "cell_type": "code",
   "execution_count": 25,
   "metadata": {},
   "outputs": [
    {
     "name": "stderr",
     "output_type": "stream",
     "text": [
      "/home/sw/notebooks/notebook35/lib/python3.5/site-packages/dask/dataframe/io/csv.py:296: UserWarning: Warning gzip compression does not support breaking apart files\n",
      "Please ensure that each individual file can fit in memory and\n",
      "use the keyword ``blocksize=None to remove this message``\n",
      "Setting ``blocksize=None``\n",
      "  \"Setting ``blocksize=None``\" % compression)\n"
     ]
    },
    {
     "data": {
      "text/html": [
       "<div>\n",
       "<style scoped>\n",
       "    .dataframe tbody tr th:only-of-type {\n",
       "        vertical-align: middle;\n",
       "    }\n",
       "\n",
       "    .dataframe tbody tr th {\n",
       "        vertical-align: top;\n",
       "    }\n",
       "\n",
       "    .dataframe thead th {\n",
       "        text-align: right;\n",
       "    }\n",
       "</style>\n",
       "<table border=\"1\" class=\"dataframe\">\n",
       "  <thead>\n",
       "    <tr style=\"text-align: right;\">\n",
       "      <th></th>\n",
       "      <th>amount</th>\n",
       "      <th>country</th>\n",
       "      <th>currency</th>\n",
       "      <th>recipient_id</th>\n",
       "      <th>recipient_location</th>\n",
       "      <th>recipient_name</th>\n",
       "      <th>recipient_postcode</th>\n",
       "      <th>scheme</th>\n",
       "      <th>year</th>\n",
       "    </tr>\n",
       "  </thead>\n",
       "  <tbody>\n",
       "    <tr>\n",
       "      <th>0</th>\n",
       "      <td>71278.0</td>\n",
       "      <td>SE</td>\n",
       "      <td>SEK</td>\n",
       "      <td>se-allergon-ab-26292-angelholm</td>\n",
       "      <td>Ängelholm, Helsingborg, Skåne län</td>\n",
       "      <td>ALLERGON AB</td>\n",
       "      <td>26292.0</td>\n",
       "      <td>Guarantee Fund direct support: I.1, Single pay...</td>\n",
       "      <td>2015</td>\n",
       "    </tr>\n",
       "    <tr>\n",
       "      <th>1</th>\n",
       "      <td>1466.0</td>\n",
       "      <td>SE</td>\n",
       "      <td>SEK</td>\n",
       "      <td>se-allergon-ab-26292-angelholm</td>\n",
       "      <td>Ängelholm, Helsingborg, Skåne län</td>\n",
       "      <td>ALLERGON AB</td>\n",
       "      <td>26292.0</td>\n",
       "      <td>Guarantee Fund direct support: II.10, Reimburs...</td>\n",
       "      <td>2015</td>\n",
       "    </tr>\n",
       "    <tr>\n",
       "      <th>2</th>\n",
       "      <td>11335.0</td>\n",
       "      <td>SE</td>\n",
       "      <td>SEK</td>\n",
       "      <td>se-kungliga-skogs-och-lantbruksakademien-11386...</td>\n",
       "      <td>Stockholm, Stockholm, Stockholms län</td>\n",
       "      <td>KUNGLIGA SKOGS- OCH LANTBRUKSAKADEMIEN</td>\n",
       "      <td>11386.0</td>\n",
       "      <td>Guarantee Fund direct support: I.1, Single pay...</td>\n",
       "      <td>2015</td>\n",
       "    </tr>\n",
       "    <tr>\n",
       "      <th>3</th>\n",
       "      <td>192853.0</td>\n",
       "      <td>SE</td>\n",
       "      <td>SEK</td>\n",
       "      <td>se-kungliga-skogs-och-lantbruksakademien-11386...</td>\n",
       "      <td>Stockholm, Stockholm, Stockholms län</td>\n",
       "      <td>KUNGLIGA SKOGS- OCH LANTBRUKSAKADEMIEN</td>\n",
       "      <td>11386.0</td>\n",
       "      <td>Rural Development Fund: V/B.3.6, Measures to i...</td>\n",
       "      <td>2015</td>\n",
       "    </tr>\n",
       "    <tr>\n",
       "      <th>4</th>\n",
       "      <td>21442.0</td>\n",
       "      <td>SE</td>\n",
       "      <td>SEK</td>\n",
       "      <td>se-kungliga-skogs-och-lantbruksakademien-11386...</td>\n",
       "      <td>Stockholm, Stockholm, Stockholms län</td>\n",
       "      <td>KUNGLIGA SKOGS- OCH LANTBRUKSAKADEMIEN</td>\n",
       "      <td>11386.0</td>\n",
       "      <td>Rural Development Fund: IV/A.15, agri-environm...</td>\n",
       "      <td>2015</td>\n",
       "    </tr>\n",
       "  </tbody>\n",
       "</table>\n",
       "</div>"
      ],
      "text/plain": [
       "     amount country currency  \\\n",
       "0   71278.0      SE      SEK   \n",
       "1    1466.0      SE      SEK   \n",
       "2   11335.0      SE      SEK   \n",
       "3  192853.0      SE      SEK   \n",
       "4   21442.0      SE      SEK   \n",
       "\n",
       "                                        recipient_id  \\\n",
       "0                     se-allergon-ab-26292-angelholm   \n",
       "1                     se-allergon-ab-26292-angelholm   \n",
       "2  se-kungliga-skogs-och-lantbruksakademien-11386...   \n",
       "3  se-kungliga-skogs-och-lantbruksakademien-11386...   \n",
       "4  se-kungliga-skogs-och-lantbruksakademien-11386...   \n",
       "\n",
       "                     recipient_location  \\\n",
       "0     Ängelholm, Helsingborg, Skåne län   \n",
       "1     Ängelholm, Helsingborg, Skåne län   \n",
       "2  Stockholm, Stockholm, Stockholms län   \n",
       "3  Stockholm, Stockholm, Stockholms län   \n",
       "4  Stockholm, Stockholm, Stockholms län   \n",
       "\n",
       "                           recipient_name recipient_postcode  \\\n",
       "0                             ALLERGON AB            26292.0   \n",
       "1                             ALLERGON AB            26292.0   \n",
       "2  KUNGLIGA SKOGS- OCH LANTBRUKSAKADEMIEN            11386.0   \n",
       "3  KUNGLIGA SKOGS- OCH LANTBRUKSAKADEMIEN            11386.0   \n",
       "4  KUNGLIGA SKOGS- OCH LANTBRUKSAKADEMIEN            11386.0   \n",
       "\n",
       "                                              scheme  year  \n",
       "0  Guarantee Fund direct support: I.1, Single pay...  2015  \n",
       "1  Guarantee Fund direct support: II.10, Reimburs...  2015  \n",
       "2  Guarantee Fund direct support: I.1, Single pay...  2015  \n",
       "3  Rural Development Fund: V/B.3.6, Measures to i...  2015  \n",
       "4  Rural Development Fund: IV/A.15, agri-environm...  2015  "
      ]
     },
     "execution_count": 25,
     "metadata": {},
     "output_type": "execute_result"
    }
   ],
   "source": [
    "df = dd.read_csv('data/SE_2015*.csv.gz', compression='gzip', dtype={'recipient_postcode': str}).compute()\n",
    "df['year'] = 2015\n",
    "df.head()"
   ]
  },
  {
   "cell_type": "code",
   "execution_count": 26,
   "metadata": {},
   "outputs": [],
   "source": [
    "df = df.drop_duplicates()"
   ]
  },
  {
   "cell_type": "code",
   "execution_count": 27,
   "metadata": {},
   "outputs": [
    {
     "data": {
      "text/plain": [
       "68435"
      ]
     },
     "execution_count": 27,
     "metadata": {},
     "output_type": "execute_result"
    }
   ],
   "source": [
    "df['recipient_id'].nunique()"
   ]
  },
  {
   "cell_type": "code",
   "execution_count": 28,
   "metadata": {},
   "outputs": [],
   "source": [
    "df.to_csv('se_2015.csv.gz', compression='gzip', index=False)"
   ]
  }
 ],
 "metadata": {
  "kernelspec": {
   "display_name": "Python 3",
   "language": "python",
   "name": "python3"
  },
  "language_info": {
   "codemirror_mode": {
    "name": "ipython",
    "version": 3
   },
   "file_extension": ".py",
   "mimetype": "text/x-python",
   "name": "python",
   "nbconvert_exporter": "python",
   "pygments_lexer": "ipython3",
   "version": "3.5.2"
  }
 },
 "nbformat": 4,
 "nbformat_minor": 2
}
