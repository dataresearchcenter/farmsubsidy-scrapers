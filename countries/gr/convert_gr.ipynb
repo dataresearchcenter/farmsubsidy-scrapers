{
 "cells": [
  {
   "cell_type": "code",
   "execution_count": 1,
   "metadata": {
    "collapsed": true
   },
   "outputs": [],
   "source": [
    "import sqlite3\n",
    "import json\n",
    "\n",
    "import pandas as pd"
   ]
  },
  {
   "cell_type": "code",
   "execution_count": 2,
   "metadata": {},
   "outputs": [
    {
     "data": {
      "text/html": [
       "<div>\n",
       "<table border=\"1\" class=\"dataframe\">\n",
       "  <thead>\n",
       "    <tr style=\"text-align: right;\">\n",
       "      <th></th>\n",
       "      <th>amount</th>\n",
       "      <th>country</th>\n",
       "      <th>currency</th>\n",
       "      <th>recipient_id</th>\n",
       "      <th>recipient_location</th>\n",
       "      <th>recipient_name</th>\n",
       "      <th>scheme</th>\n",
       "      <th>year</th>\n",
       "    </tr>\n",
       "  </thead>\n",
       "  <tbody>\n",
       "    <tr>\n",
       "      <th>0</th>\n",
       "      <td>4.98</td>\n",
       "      <td>GR</td>\n",
       "      <td>EUR</td>\n",
       "      <td>GR-2014-1</td>\n",
       "      <td>Ανατολικής Μάνης</td>\n",
       "      <td>ΑΝΩΝΥΜΟΣ 1</td>\n",
       "      <td>I.1 Καθεστώς ενιαίας ενίσχυσης – τίτλος III (Ε...</td>\n",
       "      <td>2014</td>\n",
       "    </tr>\n",
       "    <tr>\n",
       "      <th>1</th>\n",
       "      <td>2891.40</td>\n",
       "      <td>GR</td>\n",
       "      <td>EUR</td>\n",
       "      <td>GR-2014-2</td>\n",
       "      <td>Ζακύνθου</td>\n",
       "      <td>ΕΥΑΓΓΕΛΟΣ Ν. ΧΑΙΔΑΣ</td>\n",
       "      <td>I.1 Καθεστώς ενιαίας ενίσχυσης – τίτλος III (Ε...</td>\n",
       "      <td>2014</td>\n",
       "    </tr>\n",
       "    <tr>\n",
       "      <th>2</th>\n",
       "      <td>928.27</td>\n",
       "      <td>GR</td>\n",
       "      <td>EUR</td>\n",
       "      <td>GR-2014-3</td>\n",
       "      <td>Λέσβου</td>\n",
       "      <td>ΑΝΩΝΥΜΟΣ 3</td>\n",
       "      <td>I.1 Καθεστώς ενιαίας ενίσχυσης – τίτλος III (Ε...</td>\n",
       "      <td>2014</td>\n",
       "    </tr>\n",
       "    <tr>\n",
       "      <th>3</th>\n",
       "      <td>182.00</td>\n",
       "      <td>GR</td>\n",
       "      <td>EUR</td>\n",
       "      <td>GR-2014-3</td>\n",
       "      <td>Λέσβου</td>\n",
       "      <td>ΑΝΩΝΥΜΟΣ 3</td>\n",
       "      <td>VI/Δ.1 Μικρά νησιά του Αιγαίου Πελάγους (ΕΓΤΕ)</td>\n",
       "      <td>2014</td>\n",
       "    </tr>\n",
       "    <tr>\n",
       "      <th>4</th>\n",
       "      <td>1926.85</td>\n",
       "      <td>GR</td>\n",
       "      <td>EUR</td>\n",
       "      <td>GR-2014-4</td>\n",
       "      <td>Πύργου</td>\n",
       "      <td>ΓΕΩΡΓΙΟΣ Ν. ΧΑΤΖΗΓΙΑΝΝΗΣ</td>\n",
       "      <td>I.1 Καθεστώς ενιαίας ενίσχυσης – τίτλος III (Ε...</td>\n",
       "      <td>2014</td>\n",
       "    </tr>\n",
       "  </tbody>\n",
       "</table>\n",
       "</div>"
      ],
      "text/plain": [
       "    amount country currency recipient_id recipient_location  \\\n",
       "0     4.98      GR      EUR    GR-2014-1   Ανατολικής Μάνης   \n",
       "1  2891.40      GR      EUR    GR-2014-2           Ζακύνθου   \n",
       "2   928.27      GR      EUR    GR-2014-3             Λέσβου   \n",
       "3   182.00      GR      EUR    GR-2014-3             Λέσβου   \n",
       "4  1926.85      GR      EUR    GR-2014-4             Πύργου   \n",
       "\n",
       "             recipient_name  \\\n",
       "0                ΑΝΩΝΥΜΟΣ 1   \n",
       "1       ΕΥΑΓΓΕΛΟΣ Ν. ΧΑΙΔΑΣ   \n",
       "2                ΑΝΩΝΥΜΟΣ 3   \n",
       "3                ΑΝΩΝΥΜΟΣ 3   \n",
       "4  ΓΕΩΡΓΙΟΣ Ν. ΧΑΤΖΗΓΙΑΝΝΗΣ   \n",
       "\n",
       "                                              scheme  year  \n",
       "0  I.1 Καθεστώς ενιαίας ενίσχυσης – τίτλος III (Ε...  2014  \n",
       "1  I.1 Καθεστώς ενιαίας ενίσχυσης – τίτλος III (Ε...  2014  \n",
       "2  I.1 Καθεστώς ενιαίας ενίσχυσης – τίτλος III (Ε...  2014  \n",
       "3     VI/Δ.1 Μικρά νησιά του Αιγαίου Πελάγους (ΕΓΤΕ)  2014  \n",
       "4  I.1 Καθεστώς ενιαίας ενίσχυσης – τίτλος III (Ε...  2014  "
      ]
     },
     "execution_count": 2,
     "metadata": {},
     "output_type": "execute_result"
    }
   ],
   "source": [
    "con = sqlite3.connect(\"scrapa.db\")\n",
    "raw = pd.read_sql('SELECT result FROM scrapa_result WHERE kind=\"payment\"', con)\n",
    "df = pd.DataFrame.from_records(raw['result'].apply(json.loads))\n",
    "df.head()"
   ]
  },
  {
   "cell_type": "code",
   "execution_count": 3,
   "metadata": {},
   "outputs": [
    {
     "data": {
      "text/plain": [
       "1457979"
      ]
     },
     "execution_count": 3,
     "metadata": {},
     "output_type": "execute_result"
    }
   ],
   "source": [
    "len(df.groupby('recipient_id'))"
   ]
  },
  {
   "cell_type": "code",
   "execution_count": 4,
   "metadata": {},
   "outputs": [
    {
     "data": {
      "text/html": [
       "<div>\n",
       "<table border=\"1\" class=\"dataframe\">\n",
       "  <thead>\n",
       "    <tr style=\"text-align: right;\">\n",
       "      <th></th>\n",
       "      <th>amount</th>\n",
       "      <th>country</th>\n",
       "      <th>currency</th>\n",
       "      <th>recipient_id</th>\n",
       "      <th>recipient_location</th>\n",
       "      <th>recipient_name</th>\n",
       "      <th>scheme</th>\n",
       "      <th>year</th>\n",
       "    </tr>\n",
       "  </thead>\n",
       "  <tbody>\n",
       "    <tr>\n",
       "      <th>0</th>\n",
       "      <td>4.98</td>\n",
       "      <td>GR</td>\n",
       "      <td>EUR</td>\n",
       "      <td>GR-2014-1</td>\n",
       "      <td>Ανατολικής Μάνης</td>\n",
       "      <td>NaN</td>\n",
       "      <td>I.1 Καθεστώς ενιαίας ενίσχυσης – τίτλος III (Ε...</td>\n",
       "      <td>2014</td>\n",
       "    </tr>\n",
       "    <tr>\n",
       "      <th>1</th>\n",
       "      <td>2891.40</td>\n",
       "      <td>GR</td>\n",
       "      <td>EUR</td>\n",
       "      <td>GR-2014-2</td>\n",
       "      <td>Ζακύνθου</td>\n",
       "      <td>ΕΥΑΓΓΕΛΟΣ Ν. ΧΑΙΔΑΣ</td>\n",
       "      <td>I.1 Καθεστώς ενιαίας ενίσχυσης – τίτλος III (Ε...</td>\n",
       "      <td>2014</td>\n",
       "    </tr>\n",
       "    <tr>\n",
       "      <th>2</th>\n",
       "      <td>928.27</td>\n",
       "      <td>GR</td>\n",
       "      <td>EUR</td>\n",
       "      <td>GR-2014-3</td>\n",
       "      <td>Λέσβου</td>\n",
       "      <td>NaN</td>\n",
       "      <td>I.1 Καθεστώς ενιαίας ενίσχυσης – τίτλος III (Ε...</td>\n",
       "      <td>2014</td>\n",
       "    </tr>\n",
       "    <tr>\n",
       "      <th>3</th>\n",
       "      <td>182.00</td>\n",
       "      <td>GR</td>\n",
       "      <td>EUR</td>\n",
       "      <td>GR-2014-3</td>\n",
       "      <td>Λέσβου</td>\n",
       "      <td>NaN</td>\n",
       "      <td>VI/Δ.1 Μικρά νησιά του Αιγαίου Πελάγους (ΕΓΤΕ)</td>\n",
       "      <td>2014</td>\n",
       "    </tr>\n",
       "    <tr>\n",
       "      <th>4</th>\n",
       "      <td>1926.85</td>\n",
       "      <td>GR</td>\n",
       "      <td>EUR</td>\n",
       "      <td>GR-2014-4</td>\n",
       "      <td>Πύργου</td>\n",
       "      <td>ΓΕΩΡΓΙΟΣ Ν. ΧΑΤΖΗΓΙΑΝΝΗΣ</td>\n",
       "      <td>I.1 Καθεστώς ενιαίας ενίσχυσης – τίτλος III (Ε...</td>\n",
       "      <td>2014</td>\n",
       "    </tr>\n",
       "  </tbody>\n",
       "</table>\n",
       "</div>"
      ],
      "text/plain": [
       "    amount country currency recipient_id recipient_location  \\\n",
       "0     4.98      GR      EUR    GR-2014-1   Ανατολικής Μάνης   \n",
       "1  2891.40      GR      EUR    GR-2014-2           Ζακύνθου   \n",
       "2   928.27      GR      EUR    GR-2014-3             Λέσβου   \n",
       "3   182.00      GR      EUR    GR-2014-3             Λέσβου   \n",
       "4  1926.85      GR      EUR    GR-2014-4             Πύργου   \n",
       "\n",
       "             recipient_name  \\\n",
       "0                       NaN   \n",
       "1       ΕΥΑΓΓΕΛΟΣ Ν. ΧΑΙΔΑΣ   \n",
       "2                       NaN   \n",
       "3                       NaN   \n",
       "4  ΓΕΩΡΓΙΟΣ Ν. ΧΑΤΖΗΓΙΑΝΝΗΣ   \n",
       "\n",
       "                                              scheme  year  \n",
       "0  I.1 Καθεστώς ενιαίας ενίσχυσης – τίτλος III (Ε...  2014  \n",
       "1  I.1 Καθεστώς ενιαίας ενίσχυσης – τίτλος III (Ε...  2014  \n",
       "2  I.1 Καθεστώς ενιαίας ενίσχυσης – τίτλος III (Ε...  2014  \n",
       "3     VI/Δ.1 Μικρά νησιά του Αιγαίου Πελάγους (ΕΓΤΕ)  2014  \n",
       "4  I.1 Καθεστώς ενιαίας ενίσχυσης – τίτλος III (Ε...  2014  "
      ]
     },
     "execution_count": 4,
     "metadata": {},
     "output_type": "execute_result"
    }
   ],
   "source": [
    "import numpy as np\n",
    "\n",
    "df['recipient_name'] = df['recipient_name'].apply(lambda x: np.nan if 'ΑΝΩΝΥΜΟΣ ' in x else x)\n",
    "df.head()"
   ]
  },
  {
   "cell_type": "code",
   "execution_count": 5,
   "metadata": {},
   "outputs": [
    {
     "data": {
      "text/plain": [
       "year\n",
       "2014    2.693262e+09\n",
       "2015    2.452042e+09\n",
       "Name: amount, dtype: float64"
      ]
     },
     "execution_count": 5,
     "metadata": {},
     "output_type": "execute_result"
    }
   ],
   "source": [
    "df.groupby('year')['amount'].sum()"
   ]
  },
  {
   "cell_type": "code",
   "execution_count": 20,
   "metadata": {},
   "outputs": [
    {
     "data": {
      "text/html": [
       "<div>\n",
       "<table border=\"1\" class=\"dataframe\">\n",
       "  <thead>\n",
       "    <tr style=\"text-align: right;\">\n",
       "      <th>year</th>\n",
       "      <th>2014</th>\n",
       "      <th>2015</th>\n",
       "    </tr>\n",
       "    <tr>\n",
       "      <th>recipient_name</th>\n",
       "      <th></th>\n",
       "      <th></th>\n",
       "    </tr>\n",
       "  </thead>\n",
       "  <tbody>\n",
       "    <tr>\n",
       "      <th>ΑΠΟΣΤΟΛΟΥ ΝΙΚΟΛΑΟΣ ΧΡΗΣΤΟΣ</th>\n",
       "      <td>NaN</td>\n",
       "      <td>28817903.85</td>\n",
       "    </tr>\n",
       "    <tr>\n",
       "      <th>ΕΙΔΙΚΗ ΥΠΗΡΕΣΙΑ ΔΗΜΟΣΙΩΝ ΕΡΓΩΝ / Ο.Σ.Υ.Ε</th>\n",
       "      <td>52977277.05</td>\n",
       "      <td>6616773.82</td>\n",
       "    </tr>\n",
       "    <tr>\n",
       "      <th>ΔΙΕΥΘΥΝΣΗ ΤΕΧΝΙΚΩΝ ΕΡΓΩΝ ΠΕΡΙΦΕΡΕΙΑΣ ΘΕΣΣΑΛΙΑΣ</th>\n",
       "      <td>NaN</td>\n",
       "      <td>5331402.78</td>\n",
       "    </tr>\n",
       "    <tr>\n",
       "      <th>ΥΠΑΑΤ Ε.Υ.Δ. Π.Α.Α. ΜΟΝΑΔΑ Δ΄</th>\n",
       "      <td>3160749.17</td>\n",
       "      <td>3311463.07</td>\n",
       "    </tr>\n",
       "    <tr>\n",
       "      <th>ΔΑΣΑΡΧΕΙΟ ΔΙΔΥΜΟΤΕΙΧΟΥ</th>\n",
       "      <td>NaN</td>\n",
       "      <td>3297824.64</td>\n",
       "    </tr>\n",
       "  </tbody>\n",
       "</table>\n",
       "</div>"
      ],
      "text/plain": [
       "year                                                   2014         2015\n",
       "recipient_name                                                          \n",
       "ΑΠΟΣΤΟΛΟΥ ΝΙΚΟΛΑΟΣ ΧΡΗΣΤΟΣ                              NaN  28817903.85\n",
       "ΕΙΔΙΚΗ ΥΠΗΡΕΣΙΑ ΔΗΜΟΣΙΩΝ ΕΡΓΩΝ / Ο.Σ.Υ.Ε        52977277.05   6616773.82\n",
       "ΔΙΕΥΘΥΝΣΗ ΤΕΧΝΙΚΩΝ ΕΡΓΩΝ ΠΕΡΙΦΕΡΕΙΑΣ ΘΕΣΣΑΛΙΑΣ          NaN   5331402.78\n",
       "ΥΠΑΑΤ Ε.Υ.Δ. Π.Α.Α. ΜΟΝΑΔΑ Δ΄                    3160749.17   3311463.07\n",
       "ΔΑΣΑΡΧΕΙΟ ΔΙΔΥΜΟΤΕΙΧΟΥ                                  NaN   3297824.64"
      ]
     },
     "execution_count": 20,
     "metadata": {},
     "output_type": "execute_result"
    }
   ],
   "source": [
    "df.groupby(['recipient_name', 'year'])['amount'].sum().unstack().sort_values(2015, ascending=False).head()"
   ]
  },
  {
   "cell_type": "code",
   "execution_count": 23,
   "metadata": {},
   "outputs": [
    {
     "data": {
      "text/plain": [
       "year\n",
       "2014    682681\n",
       "2015    892628\n",
       "dtype: int64"
      ]
     },
     "execution_count": 23,
     "metadata": {},
     "output_type": "execute_result"
    }
   ],
   "source": [
    "df[df['recipient_name'].notnull()].groupby('year').size()"
   ]
  },
  {
   "cell_type": "code",
   "execution_count": 24,
   "metadata": {},
   "outputs": [
    {
     "data": {
      "text/plain": [
       "year\n",
       "2014    392003\n",
       "2015    403994\n",
       "dtype: int64"
      ]
     },
     "execution_count": 24,
     "metadata": {},
     "output_type": "execute_result"
    }
   ],
   "source": [
    "df[df['recipient_name'].isnull()].groupby('year').size()"
   ]
  },
  {
   "cell_type": "code",
   "execution_count": 19,
   "metadata": {},
   "outputs": [
    {
     "data": {
      "text/plain": [
       "year\n",
       "2014    1074684.0\n",
       "2015    1296622.0\n",
       "dtype: float64"
      ]
     },
     "execution_count": 19,
     "metadata": {},
     "output_type": "execute_result"
    }
   ],
   "source": [
    "df.groupby(['recipient_id', 'year']).size().unstack().sum()"
   ]
  },
  {
   "cell_type": "code",
   "execution_count": 16,
   "metadata": {},
   "outputs": [],
   "source": [
    "df[df['year'] == 2014].to_csv('gr_2014.csv', index=False, encoding='utf-8')\n",
    "df[df['year'] == 2015].to_csv('gr_2015.csv', index=False, encoding='utf-8')"
   ]
  }
 ],
 "metadata": {
  "kernelspec": {
   "display_name": "Python 3",
   "language": "python",
   "name": "python3"
  },
  "language_info": {
   "codemirror_mode": {
    "name": "ipython",
    "version": 3
   },
   "file_extension": ".py",
   "mimetype": "text/x-python",
   "name": "python",
   "nbconvert_exporter": "python",
   "pygments_lexer": "ipython3",
   "version": "3.6.0"
  }
 },
 "nbformat": 4,
 "nbformat_minor": 1
}
