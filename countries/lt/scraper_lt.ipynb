{
 "cells": [
  {
   "cell_type": "code",
   "execution_count": null,
   "metadata": {},
   "outputs": [],
   "source": [
    "import requests\n",
    "from lxml import html\n",
    "\n",
    "import pandas as pd\n",
    "\n",
    "from IPython.core.display import display, HTML\n"
   ]
  },
  {
   "cell_type": "code",
   "execution_count": null,
   "metadata": {},
   "outputs": [],
   "source": [
    "r.request.headers"
   ]
  },
  {
   "cell_type": "code",
   "execution_count": null,
   "metadata": {},
   "outputs": [],
   "source": [
    "BASE_URL = 'https://portal.nma.lt/nma-portal/pages/fas_search'\n",
    "PROGRAM = 'KP13'\n",
    "\n",
    "QUERY = {\n",
    "    'pa': 'pl',\n",
    "    'pTipas': 'p',\n",
    "    'psl_nr': '1',\n",
    "    'programos_kodas': PROGRAM,\n",
    "    'fin_metai': '2015',\n",
    "    'pareiskejas': '',\n",
    "    'apskritis': '',\n",
    "    'savivaldybe': '',\n",
    "    'priemone': '',\n",
    "    't_suma': '',\n",
    "    'k_suma': '',\n",
    "    'v_suma': '',\n",
    "    'b_suma': '',\n",
    "    'action': 'Ieškoti',\n",
    "}\n",
    "\n",
    "def get_page(session, year=2015, page=1):\n",
    "    query = dict(QUERY)\n",
    "    query.update({\n",
    "        'psl_nr': str(page),\n",
    "        'fin_metai': str(year)\n",
    "    })\n",
    "    response = session.post(BASE_URL, data=query, headers={\n",
    "        'Content-Type': 'application/x-www-form-urlencoded',\n",
    "        'Referer': 'https://portal.nma.lt/nma-portal/pages/fas_search',\n",
    "    })\n",
    "    return response\n"
   ]
  },
  {
   "cell_type": "code",
   "execution_count": null,
   "metadata": {},
   "outputs": [],
   "source": [
    "class EndOfPagination(Exception):\n",
    "    pass\n",
    "\n",
    "SUBSIDY_TYPES = {\n",
    "    0: 'EAGF',\n",
    "    1: 'EAGF - other',\n",
    "    2: 'EAFRD',\n",
    "}\n",
    "\n",
    "def extract_subsidies(text, year):\n",
    "    root = html.fromstring(text)\n",
    "    table = root.xpath('//table[1]')\n",
    "    if not table:\n",
    "        raise EndOfPagination\n",
    "    table = table[0]\n",
    "    trs = table.xpath('.//tr')\n",
    "    base = None\n",
    "    for tr in trs:\n",
    "        tds = tr.xpath('./td')\n",
    "        if tr.attrib.get('id'):\n",
    "            base = {\n",
    "                'year': year,\n",
    "                'recipient_id': tr.attrib.get('id'),\n",
    "                'recipient_name': tds[0].text_content(),\n",
    "                'recipient_location': '%s, %s' % (\n",
    "                    tds[2].text_content().replace('rajonas', '').strip(),\n",
    "                    tds[1].text_content().replace('apskritis', '').strip(),\n",
    "                )\n",
    "            }\n",
    "        else:\n",
    "            subsidy_name = tds[3].text_content()\n",
    "            for i in range(3):\n",
    "                amount = float(tds[4 + i].text_content().replace(',', '.'))\n",
    "                if amount > 0:\n",
    "                    subsidy = dict(base)\n",
    "                    subsidy.update({\n",
    "                        'scheme': '%s (%s)' % (subsidy_name, SUBSIDY_TYPES[i]),\n",
    "                        'amount': amount\n",
    "                    })\n",
    "                    yield subsidy\n",
    "\n",
    "\n"
   ]
  },
  {
   "cell_type": "code",
   "execution_count": null,
   "metadata": {},
   "outputs": [],
   "source": [
    "def get_subsidies(year):\n",
    "    session = requests.Session()\n",
    "    response = session.get(BASE_URL)\n",
    "    # display(HTML(response.text))\n",
    "    response = session.post(BASE_URL, data={'pa': 'sf', 'programos_kodas': PROGRAM}, headers={\n",
    "        'Content-Type': 'application/x-www-form-urlencoded',\n",
    "        'Referer': 'https://portal.nma.lt/nma-portal/pages/fas_search'\n",
    "    })\n",
    "    # print(response.request.headers)\n",
    "    # display(HTML(response.text))\n",
    "    page = 1\n",
    "    while True:\n",
    "        r = get_page(session, year=year, page=page)\n",
    "        yield extract_subsidies(r.text, year)\n",
    "        page += 1\n",
    "    except EndOfPagination:\n",
    "        pass"
   ]
  },
  {
   "cell_type": "code",
   "execution_count": null,
   "metadata": {},
   "outputs": [],
   "source": [
    "YEAR = 2016\n",
    "df = pd.DataFrame()\n",
    "for page_gen in get_subsidies(YEAR):\n",
    "    try:\n",
    "        df = pd.concat([df, pd.DataFrame(page_gen)])\n",
    "    except EndOfPagination:\n",
    "        pass\n",
    "    df.to_csv('lt_%s.csv.gz' % YEAR, compression='gzip')\n",
    "    print(len(df))"
   ]
  },
  {
   "cell_type": "code",
   "execution_count": null,
   "metadata": {},
   "outputs": [],
   "source": [
    "df.head()"
   ]
  },
  {
   "cell_type": "code",
   "execution_count": null,
   "metadata": {},
   "outputs": [],
   "source": [
    "!pwd"
   ]
  }
 ],
 "metadata": {
  "kernelspec": {
   "display_name": "Python 3",
   "language": "python",
   "name": "python3"
  },
  "language_info": {
   "codemirror_mode": {
    "name": "ipython",
    "version": 3
   },
   "file_extension": ".py",
   "mimetype": "text/x-python",
   "name": "python",
   "nbconvert_exporter": "python",
   "pygments_lexer": "ipython3",
   "version": "3.5.2"
  }
 },
 "nbformat": 4,
 "nbformat_minor": 2
}
