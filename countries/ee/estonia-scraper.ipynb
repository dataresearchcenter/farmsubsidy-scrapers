{
 "cells": [
  {
   "cell_type": "code",
   "execution_count": 4,
   "metadata": {
    "collapsed": false
   },
   "outputs": [
    {
     "name": "stderr",
     "output_type": "stream",
     "text": [
      "  % Total    % Received % Xferd  Average Speed   Time    Time     Time  Current\n",
      "                                 Dload  Upload   Total   Spent    Left  Speed\n",
      "\r",
      "  0     0    0     0    0     0      0      0 --:--:-- --:--:-- --:--:--     0\r",
      "100  6018    0     0  100  6018      0   5582  0:00:01  0:00:01 --:--:--  5587\r",
      "100  6018    0     0  100  6018      0   2894  0:00:02  0:00:02 --:--:--  2896\r",
      "100  6018    0     0  100  6018      0   1953  0:00:03  0:00:03 --:--:--  1953\r",
      "100  7116    0  1098  100  6018    287   1573  0:00:03  0:00:03 --:--:--  1573\r",
      "100  217k    0  211k  100  6018  45247   1257  0:00:04  0:00:04 --:--:-- 45245\r",
      "100  575k    0  569k  100  6018    99k   1047  0:00:05  0:00:05 --:--:--  120k\r",
      "100  879k    0  873k  100  6018   128k    882  0:00:06  0:00:06 --:--:--  182k\r",
      "100 1128k    0 1122k  100  6018   145k    777  0:00:07  0:00:07 --:--:--  239k\r",
      "100 1368k    0 1362k  100  6018   155k    684  0:00:08  0:00:08 --:--:--  273k\r",
      "100 1618k    0 1612k  100  6018   164k    614  0:00:09  0:00:09 --:--:--  279k\r",
      "100 1920k    0 1914k  100  6018   178k    559  0:00:10  0:00:10 --:--:--  268k\r",
      "100 2259k    0 2253k  100  6018   191k    511  0:00:11  0:00:11 --:--:--  279k\r",
      "100 2324k    0 2318k  100  6018   193k    502  0:00:11  0:00:11 --:--:--  282k\n"
     ]
    }
   ],
   "source": [
    "%%bash\n",
    "\n",
    "curl 'http://www.pria.ee/et/toetused/csv/' -H 'Origin: http://www.pria.ee' \\\n",
    "    -H 'Accept-Encoding: gzip, deflate' -H 'Upgrade-Insecure-Requests: 1'  \\\n",
    "    -H 'Content-Type: application/x-www-form-urlencoded' \\\n",
    "    -H 'Accept: text/html,application/xhtml+xml,application/xml;q=0.9,image/webp,*/*;q=0.8' \\\n",
    "    -H 'Cache-Control: max-age=0' -H 'Referer: http://www.pria.ee/et/toetused/toetusesaajad/' \\\n",
    "    -H 'Connection: keep-alive' -H 'DNT: 1' \\\n",
    "    --data 'csv_params=--------------2014-payed----a%253A73%253A%257Bi%253A0%253Bs%253A38%253A%2522ammlehmakasvatamisetaN_Aiendavotsetoetus%2522%253Bi%253A1%253Bs%253A42%253A%2522ebasoodsamatepiirkondadetoetusmak2004N_A2006%2522%253Bi%253A2%253Bs%253A36%253A%2522edendusmeetmedN_ApuuN_AjakoN_AoN_Agivilivib1%2522%253Bi%253A3%253Bs%253A46%253A%2522ekf11riigiabikalapuN_AuN_Agialalisekslo_petamiseks%2522%253Bi%253A4%253Bs%253A58%253A%2522ekf13kalalaevadepardaltehtavadinvesteeringudjaselektiivsus%2522%253Bi%253A5%253Bs%253A32%253A%2522ekf14vaN_AikesemahulinerannapuN_AuN_Ak%2522%253Bi%253A6%253Bs%253A34%253A%2522ekf15sotsiaalN_Amajanduslikudmeetmed%2522%253Bi%253A7%253Bs%253A37%253A%2522ekf21vesiviljeluseinvesteeringutoetus%2522%253Bi%253A8%253Bs%253A28%253A%2522ekf22sisevetekalandusetoetus%2522%253Bi%253A9%253Bs%253A46%253A%2522ekf23investeeringudtoN_AoN_Atlemissejaturustamisse%2522%253Bi%253A10%253Bs%253A19%253A%2522ekf31uN_Ahistegevused%2522%253Bi%253A11%253Bs%253A49%253A%2522ekf32veeloomastikujaN_Ataimestikukaitsejaarendamine%2522%253Bi%253A12%253Bs%253A42%253A%2522ekf33kalasadamadlossimiskohadjavarjualused%2522%253Bi%253A13%253Bs%253A46%253A%2522ekf34uuteturgudearendaminejareklaamikampaaniad%2522%253Bi%253A14%253Bs%253A19%253A%2522ekf35katseprojektid%2522%253Bi%253A15%253Bs%253A34%253A%2522ekf41kalanduspiirkondadearendamine%2522%253Bi%253A16%253Bs%253A33%253A%2522elatustaludekohanemisetoetusvb115%2522%253Bi%253A17%253Bs%253A30%253A%2522heinaseemnetaN_Aiendavotsetoetus%2522%253Bi%253A18%253Bs%253A22%253A%2522kalanduseturukorraldus%2522%253Bi%253A19%253Bs%253A35%253A%2522kalandustoodetetootjakoolitustoetus%2522%253Bi%253A20%253Bs%253A35%253A%2522kalandustoodetetootjapraktikatoetus%2522%253Bi%253A21%253Bs%253A45%253A%2522keskkonnaso_bralikutootmisetoetusmak2004N_A2006%2522%253Bi%253A22%253Bs%253A13%253A%2522koolipiimiii4%2522%253Bi%253A23%253Bs%253A16%253A%2522koolipuuviliiii3%2522%253Bi%253A24%253Bs%253A39%253A%2522meede11koolitusN_Ajateavitustegevusedvb11%2522%253Bi%253A25%253Bs%253A57%253A%2522meede12noortepo_llumajandustootjatetegevusealustaminevb12%2522%253Bi%253A26%253Bs%253A42%253A%2522meede131N_Ano_uandeteenustevo_imaldaminevb14%2522%253Bi%253A27%253Bs%253A40%253A%2522meede132N_Ano_uandesuN_Asteemiarendaminevb15%2522%253Bi%253A28%253Bs%253A77%253A%2522meede133no_uetelevastavusejatoN_AoN_Aohutusealaseno_uandeteenusevo_imaldaminevb15%2522%253Bi%253A29%253Bs%253A68%253A%2522meede141investeeringudmikropo_llumajandusettevo_tetearendamiseksvb16%2522%253Bi%253A30%253Bs%253A50%253A%2522meede142investeeringudloomakasvatusehitistessevb16%2522%253Bi%253A31%253Bs%253A47%253A%2522meede143investeeringudbioenergiatootmisessevb16%2522%253Bi%253A32%253Bs%253A91%253A%2522meede15metsademajanduslikuvaN_AaN_ArtuseparandaminejametsasaadustelelisandvaN_AaN_Artuseandminevb17%2522%253Bi%253A33%253Bs%253A77%253A%2522meede161po_llumajandustoodetelejamittepuidulistemetsasaadustetoN_AoN_Atleminevb18%2522%253Bi%253A34%253Bs%253A91%253A%2522meede162po_llumajandussektorijamahepo_llumajanudstootmisekohandumineuutevaN_Aljakutsetegavb18%2522%253Bi%253A35%253Bs%253A60%253A%2522meede163N_Apo_llumajandustoodeteuN_Ahisturustamiseedendaminevb18%2522%253Bi%253A36%253Bs%253A55%253A%2522meede171po_llumajN_AtoiduN_AjametsandussektorikoostoN_AoN_Avb19%2522%253Bi%253A37%253Bs%253A49%253A%2522meede18po_lluN_Ajametsamajanduseinfrastruktuurvb110%2522%253Bi%253A38%253Bs%253A45%253A%2522meede19tootjaruN_Ahmadeloominejaarendaminevb116%2522%253Bi%253A39%253Bs%253A41%253A%2522meede21ebasoodsamatepiirkondadetoetusvb22%2522%253Bi%253A40%253Bs%253A22%253A%2522meede22naturapo_ldvb23%2522%253Bi%253A41%253Bs%253A41%253A%2522meede231keskkonnaso_bralikmajandaminevb24%2522%253Bi%253A42%253Bs%253A48%253A%2522meede232mahepo_llumajanduslikutootmisetoetusvb24%2522%253Bi%253A43%253Bs%253A43%253A%2522meede233ohustatudto_uguloomakasvataminevb24%2522%253Bi%253A44%253Bs%253A32%253A%2522meede234kohalikkusortitaimedvb24%2522%253Bi%253A45%253Bs%253A50%253A%2522meede235poollooduslikukooslusehooldamisetoetusvb24%2522%253Bi%253A46%253Bs%253A29%253A%2522meede24loomadekarjataminevb25%2522%253Bi%253A47%253Bs%253A45%253A%2522meede251kiviaiarajamisejataastamisetoetusvb26%2522%253Bi%253A48%253Bs%253A59%253A%2522meede27N_Anatura2000alalasuvaerametsamaakohtaantavtoetusvb210%2522%253Bi%253A49%253Bs%253A56%253A%2522meede31majandustegevusemitmekesistaminemaapiirkonnasvb31%2522%253Bi%253A50%253Bs%253A41%253A%2522meede322kuN_Aladeuuendaminejaarendaminevb35%2522%253Bi%253A51%253Bs%253A28%253A%2522meede4leadervb41vb43vb44vb45%2522%253Bi%253A52%253Bs%253A21%253A%2522meede5tehnilineabivb5%2522%253Bi%253A53%253Bs%253A22%253A%2522mesinduseeritoetusiii7%2522%253Bi%253A54%253Bs%253A40%253A%2522piimalehmakasvatamisetaN_Aiendavotsetoetus%2522%253Bi%253A55%253Bs%253A23%253A%2522piimasektorieritoetusi7%2522%253Bi%253A56%253Bs%253A14%253A%2522praktikatoetus%2522%253Bi%253A57%253Bs%253A25%253A%2522puuN_AjakoN_AoN_Agiviljatagatis%2522%253Bi%253A58%253Bs%253A46%253A%2522po_llukultuuridekasvatamisetaN_Aiendavotsetoetus%2522%253Bi%253A59%253Bs%253A30%253A%2522po_llumajanduskindlustustoetus%2522%253Bi%253A60%253Bs%253A41%253A%2522po_llumajanduskultuuritaN_Aiendavotsetoetus%2522%253Bi%253A61%253Bs%253A52%253A%2522po_llumajanduslikkeskkonnatoetuskiviaiadmak2004N_A2006%2522%253Bi%253A62%253Bs%253A33%253A%2522po_llumajandusloomadearetustoetus%2522%253Bi%253A63%253Bs%253A38%253A%2522po_llumajandustootjateasendamisetoetus%2522%253Bi%253A64%253Bs%253A12%253A%2522riisitagatis%2522%253Bi%253A65%253Bs%253A16%253A%2522teraviljatagatis%2522%253Bi%253A66%253Bs%253A16%253A%2522toiduabiprogramm%2522%253Bi%253A67%253Bs%253A28%253A%2522toiduabiprogrammidkaN_Aibemaks%2522%253Bi%253A68%253Bs%253A17%253A%2522turuarendustoetus%2522%253Bi%253A69%253Bs%253A33%253A%2522utekasvatamisetaN_Aiendavotsetoetus%2522%253Bi%253A70%253Bs%253A22%253A%2522utetaN_Aiendavotsetoetus%2522%253Bi%253A71%253Bs%253A35%253A%2522veisekasvatamisetaN_Aiendavotsetoetus%2522%253Bi%253A72%253Bs%253A32%253A%2522uN_Ahtsepindalatoetusepo_himaksei2%2522%253B%257D-currency_eur' \\\n",
    "    --compressed > raw_data.csv"
   ]
  },
  {
   "cell_type": "code",
   "execution_count": 5,
   "metadata": {
    "collapsed": true
   },
   "outputs": [],
   "source": [
    "import pandas as pd"
   ]
  },
  {
   "cell_type": "code",
   "execution_count": 9,
   "metadata": {
    "collapsed": false
   },
   "outputs": [
    {
     "data": {
      "text/html": [
       "<div>\n",
       "<table border=\"1\" class=\"dataframe\">\n",
       "  <thead>\n",
       "    <tr style=\"text-align: right;\">\n",
       "      <th></th>\n",
       "      <th>Saaja nimi</th>\n",
       "      <th>Maakond</th>\n",
       "      <th>Vald</th>\n",
       "      <th>Sihtnumber</th>\n",
       "      <th>Otsetoetuse summa</th>\n",
       "      <th>Muu EAGF summa</th>\n",
       "      <th>EAFRD summa</th>\n",
       "      <th>MAK toetused 2004- 2006</th>\n",
       "      <th>Riiklikud toetused</th>\n",
       "      <th>Euroopa kalandus- fond</th>\n",
       "      <th>Kalanduse turu- korraldusfond</th>\n",
       "      <th>Kogusumma</th>\n",
       "      <th>Finantsaasta</th>\n",
       "    </tr>\n",
       "  </thead>\n",
       "  <tbody>\n",
       "    <tr>\n",
       "      <th>0</th>\n",
       "      <td>ÜLO TAMMANN'I VÕÕRIKU TALU</td>\n",
       "      <td>LÄÄNEMAA</td>\n",
       "      <td>RIDALA VALD</td>\n",
       "      <td>90402</td>\n",
       "      <td>2 294,53</td>\n",
       "      <td>NaN</td>\n",
       "      <td>741,94</td>\n",
       "      <td>NaN</td>\n",
       "      <td>NaN</td>\n",
       "      <td>NaN</td>\n",
       "      <td>NaN</td>\n",
       "      <td>3 036,47</td>\n",
       "      <td>2014</td>\n",
       "    </tr>\n",
       "    <tr>\n",
       "      <th>1</th>\n",
       "      <td>100003</td>\n",
       "      <td>VÕRUMAA</td>\n",
       "      <td>RÕUGE VALD</td>\n",
       "      <td>66221</td>\n",
       "      <td>NaN</td>\n",
       "      <td>NaN</td>\n",
       "      <td>245,13</td>\n",
       "      <td>NaN</td>\n",
       "      <td>NaN</td>\n",
       "      <td>NaN</td>\n",
       "      <td>NaN</td>\n",
       "      <td>245,13</td>\n",
       "      <td>2014</td>\n",
       "    </tr>\n",
       "    <tr>\n",
       "      <th>2</th>\n",
       "      <td>100025</td>\n",
       "      <td>TARTUMAA</td>\n",
       "      <td>TARTU LINN</td>\n",
       "      <td>50409</td>\n",
       "      <td>NaN</td>\n",
       "      <td>NaN</td>\n",
       "      <td>384,00</td>\n",
       "      <td>NaN</td>\n",
       "      <td>NaN</td>\n",
       "      <td>NaN</td>\n",
       "      <td>NaN</td>\n",
       "      <td>384,00</td>\n",
       "      <td>2014</td>\n",
       "    </tr>\n",
       "    <tr>\n",
       "      <th>3</th>\n",
       "      <td>100044</td>\n",
       "      <td>LÄÄNE-VIRUMAA</td>\n",
       "      <td>RÄGAVERE VALD</td>\n",
       "      <td>46713</td>\n",
       "      <td>NaN</td>\n",
       "      <td>NaN</td>\n",
       "      <td>336,00</td>\n",
       "      <td>NaN</td>\n",
       "      <td>NaN</td>\n",
       "      <td>NaN</td>\n",
       "      <td>NaN</td>\n",
       "      <td>336,00</td>\n",
       "      <td>2014</td>\n",
       "    </tr>\n",
       "    <tr>\n",
       "      <th>4</th>\n",
       "      <td>100075</td>\n",
       "      <td>HARJUMAA</td>\n",
       "      <td>KUUSALU VALD</td>\n",
       "      <td>74604</td>\n",
       "      <td>255,13</td>\n",
       "      <td>NaN</td>\n",
       "      <td>NaN</td>\n",
       "      <td>NaN</td>\n",
       "      <td>NaN</td>\n",
       "      <td>NaN</td>\n",
       "      <td>NaN</td>\n",
       "      <td>255,13</td>\n",
       "      <td>2014</td>\n",
       "    </tr>\n",
       "  </tbody>\n",
       "</table>\n",
       "</div>"
      ],
      "text/plain": [
       "                     Saaja nimi        Maakond           Vald Sihtnumber  \\\n",
       "0   ÜLO TAMMANN'I VÕÕRIKU TALU        LÄÄNEMAA    RIDALA VALD      90402   \n",
       "1                        100003        VÕRUMAA     RÕUGE VALD      66221   \n",
       "2                        100025       TARTUMAA     TARTU LINN      50409   \n",
       "3                        100044  LÄÄNE-VIRUMAA  RÄGAVERE VALD      46713   \n",
       "4                        100075       HARJUMAA   KUUSALU VALD      74604   \n",
       "\n",
       "  Otsetoetuse summa Muu EAGF summa EAFRD summa MAK toetused 2004- 2006  \\\n",
       "0          2 294,53            NaN      741,94                     NaN   \n",
       "1               NaN            NaN      245,13                     NaN   \n",
       "2               NaN            NaN      384,00                     NaN   \n",
       "3               NaN            NaN      336,00                     NaN   \n",
       "4            255,13            NaN         NaN                     NaN   \n",
       "\n",
       "  Riiklikud toetused Euroopa kalandus- fond Kalanduse turu- korraldusfond  \\\n",
       "0                NaN                    NaN                           NaN   \n",
       "1                NaN                    NaN                           NaN   \n",
       "2                NaN                    NaN                           NaN   \n",
       "3                NaN                    NaN                           NaN   \n",
       "4                NaN                    NaN                           NaN   \n",
       "\n",
       "  Kogusumma  Finantsaasta  \n",
       "0  3 036,47          2014  \n",
       "1    245,13          2014  \n",
       "2    384,00          2014  \n",
       "3    336,00          2014  \n",
       "4    255,13          2014  "
      ]
     },
     "execution_count": 9,
     "metadata": {},
     "output_type": "execute_result"
    }
   ],
   "source": [
    "df_raw = pd.read_csv('raw_data.csv', delimiter=';', encoding='latin-1')\n",
    "df_raw.head()"
   ]
  },
  {
   "cell_type": "markdown",
   "metadata": {},
   "source": [
    "Scraper with more details can be found in the scrapy_fs directory."
   ]
  }
 ],
 "metadata": {
  "kernelspec": {
   "display_name": "Python 2",
   "language": "python",
   "name": "python2"
  },
  "language_info": {
   "codemirror_mode": {
    "name": "ipython",
    "version": 2
   },
   "file_extension": ".py",
   "mimetype": "text/x-python",
   "name": "python",
   "nbconvert_exporter": "python",
   "pygments_lexer": "ipython2",
   "version": "2.7.11"
  }
 },
 "nbformat": 4,
 "nbformat_minor": 0
}
