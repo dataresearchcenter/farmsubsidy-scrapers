{
 "cells": [
  {
   "cell_type": "code",
   "execution_count": 1,
   "metadata": {},
   "outputs": [],
   "source": [
    "import os\n",
    "import gzip\n",
    "import glob\n",
    "import time\n",
    "\n",
    "import requests\n",
    "import backoff\n",
    "from requests.exceptions import ConnectionError\n",
    "\n",
    "from joblib import Parallel, delayed\n",
    "\n",
    "import pandas as pd\n",
    "import numpy as np\n",
    "from tqdm.notebook import tqdm\n",
    "\n",
    "from slugify import slugify"
   ]
  },
  {
   "cell_type": "code",
   "execution_count": 2,
   "metadata": {
    "scrolled": true,
    "tags": []
   },
   "outputs": [],
   "source": [
    "YEAR = 2022\n",
    "ANON_NEEDLE = \"MAŁE GOSPODARSTWO\"\n",
    "# All amounts in PLN\n",
    "AMOUNT_CUTOFF = [999_999_999, 10_000_000, 150_000, 125_000, 120_000, 67000, 62000, 50_000, 32_000, 31_000, 16_900, 10750, 3000,  0, -1_0000, -10_000, -9_999_999]\n",
    "AMOUNT_STEPS  = [None       , 20_000_000,   5_000,   1_000,   1_000, 1_000,   100,    100,     10,     10,     10,    10,   10,  1,      10,     100, 100_000]\n",
    "\n",
    "def get_ranges():\n",
    "    last_top = None\n",
    "    for top, step in zip(AMOUNT_CUTOFF, AMOUNT_STEPS):\n",
    "        if last_top is not None:\n",
    "            yield from reversed(range(top, last_top, step))\n",
    "        last_top = top"
   ]
  },
  {
   "cell_type": "code",
   "execution_count": 3,
   "metadata": {},
   "outputs": [],
   "source": [
    "RANGES = []\n",
    "for x in get_ranges():\n",
    "    if x != 0:\n",
    "        RANGES.append(x)\n",
    "    else:\n",
    "        # 0 is not working so make sure to make a range around it\n",
    "        RANGES.append(-1)"
   ]
  },
  {
   "cell_type": "code",
   "execution_count": 4,
   "metadata": {},
   "outputs": [
    {
     "data": {
      "text/plain": [
       "[4, 3, 2, 1, -1, -10, -20, -30, -40, -50, -60, -70, -80, -90]"
      ]
     },
     "execution_count": 4,
     "metadata": {},
     "output_type": "execute_result"
    }
   ],
   "source": [
    "[r for r in RANGES if -100 < r < 5]"
   ]
  },
  {
   "cell_type": "code",
   "execution_count": 5,
   "metadata": {},
   "outputs": [
    {
     "data": {
      "text/plain": [
       "11073"
      ]
     },
     "execution_count": 5,
     "metadata": {},
     "output_type": "execute_result"
    }
   ],
   "source": [
    "len(RANGES)"
   ]
  },
  {
   "cell_type": "code",
   "execution_count": 6,
   "metadata": {},
   "outputs": [],
   "source": [
    "SPECIALS = {\n",
    "    # Lots of people got these values, so do these with postcode search\n",
    "    2020: [\n",
    "        120_000,\n",
    "        64_000,\n",
    "        48_000,\n",
    "        20_000,\n",
    "        12_000,\n",
    "    ],\n",
    "    2021: [\n",
    "        125_000,\n",
    "        120_000,\n",
    "        68_000,\n",
    "        67_000,\n",
    "        66_000,\n",
    "        64_000,\n",
    "        48_000,\n",
    "        31_434,\n",
    "        20_000,\n",
    "        12_000,\n",
    "        5_682,\n",
    "        5_680,\n",
    "        2_225,\n",
    "        2_010,\n",
    "        2000,\n",
    "        1990,\n",
    "        1970,\n",
    "        1736,\n",
    "        1243,\n",
    "        1154,\n",
    "        1114,\n",
    "    ], \n",
    "    2022: [\n",
    "        120_000,\n",
    "        47_990,\n",
    "        11_990,\n",
    "        5_770,\n",
    "    ] + [48000, 1629, 12000, 1083, 1043, 1222]\n",
    "}"
   ]
  },
  {
   "cell_type": "code",
   "execution_count": 7,
   "metadata": {},
   "outputs": [],
   "source": [
    "BASE_URL = 'https://beneficjenciwpr.minrol.gov.pl/search/export/csv/'\n",
    "BAD_SENTINEL = b'<!DOCTYPE'"
   ]
  },
  {
   "cell_type": "code",
   "execution_count": 8,
   "metadata": {},
   "outputs": [],
   "source": [
    "def get_url(params):\n",
    "    return BASE_URL + '/'.join('{k}:{v}'.format(k=k, v=str(v).replace(\".\", \",\"))\n",
    "                               for k, v in params.items() if v is not None) + '/sort:total/direction:asc'"
   ]
  },
  {
   "cell_type": "code",
   "execution_count": null,
   "metadata": {
    "scrolled": true
   },
   "outputs": [
    {
     "name": "stderr",
     "output_type": "stream",
     "text": [
      "[Parallel(n_jobs=2)]: Using backend LokyBackend with 2 concurrent workers.\n",
      "[Parallel(n_jobs=2)]: Done  12 tasks      | elapsed:    0.3s\n",
      "[Parallel(n_jobs=2)]: Done  27 tasks      | elapsed:    0.3s\n",
      "[Parallel(n_jobs=2)]: Done  52 tasks      | elapsed:    0.3s\n",
      "[Parallel(n_jobs=2)]: Done  77 tasks      | elapsed:    0.3s\n",
      "[Parallel(n_jobs=2)]: Done 109 tasks      | elapsed:    0.4s\n",
      "[Parallel(n_jobs=2)]: Done 144 tasks      | elapsed:    0.4s\n",
      "[Parallel(n_jobs=2)]: Done 189 tasks      | elapsed:    0.4s\n",
      "[Parallel(n_jobs=2)]: Done 234 tasks      | elapsed:    0.4s\n",
      "[Parallel(n_jobs=2)]: Done 289 tasks      | elapsed:    0.4s\n",
      "[Parallel(n_jobs=2)]: Done 344 tasks      | elapsed:    0.4s\n",
      "[Parallel(n_jobs=2)]: Done 409 tasks      | elapsed:    0.4s\n",
      "[Parallel(n_jobs=2)]: Done 474 tasks      | elapsed:    0.4s\n",
      "[Parallel(n_jobs=2)]: Done 549 tasks      | elapsed:    0.4s\n",
      "[Parallel(n_jobs=2)]: Done 624 tasks      | elapsed:    0.4s\n",
      "[Parallel(n_jobs=2)]: Done 709 tasks      | elapsed:    0.4s\n",
      "[Parallel(n_jobs=2)]: Done 794 tasks      | elapsed:    0.4s\n",
      "[Parallel(n_jobs=2)]: Done 889 tasks      | elapsed:    0.4s\n",
      "[Parallel(n_jobs=2)]: Done 984 tasks      | elapsed:    0.4s\n",
      "[Parallel(n_jobs=2)]: Done 1089 tasks      | elapsed:    0.4s\n",
      "[Parallel(n_jobs=2)]: Done 1194 tasks      | elapsed:    0.5s\n",
      "[Parallel(n_jobs=2)]: Done 1309 tasks      | elapsed:    0.5s\n",
      "[Parallel(n_jobs=2)]: Done 1424 tasks      | elapsed:    0.5s\n",
      "[Parallel(n_jobs=2)]: Done 1549 tasks      | elapsed:    0.5s\n",
      "[Parallel(n_jobs=2)]: Done 1674 tasks      | elapsed:    0.5s\n",
      "[Parallel(n_jobs=2)]: Done 1809 tasks      | elapsed:    0.5s\n",
      "[Parallel(n_jobs=2)]: Done 1944 tasks      | elapsed:    0.5s\n",
      "[Parallel(n_jobs=2)]: Done 2089 tasks      | elapsed:    0.5s\n",
      "[Parallel(n_jobs=2)]: Done 2234 tasks      | elapsed:    0.5s\n",
      "[Parallel(n_jobs=2)]: Done 2389 tasks      | elapsed:    0.6s\n",
      "[Parallel(n_jobs=2)]: Done 2544 tasks      | elapsed:    0.6s\n",
      "[Parallel(n_jobs=2)]: Done 2709 tasks      | elapsed:    0.6s\n",
      "[Parallel(n_jobs=2)]: Done 2874 tasks      | elapsed:    0.6s\n",
      "[Parallel(n_jobs=2)]: Done 3049 tasks      | elapsed:    0.6s\n",
      "[Parallel(n_jobs=2)]: Done 3224 tasks      | elapsed:    0.6s\n",
      "[Parallel(n_jobs=2)]: Done 3409 tasks      | elapsed:    0.6s\n",
      "[Parallel(n_jobs=2)]: Done 3594 tasks      | elapsed:    0.7s\n",
      "[Parallel(n_jobs=2)]: Done 3789 tasks      | elapsed:    0.7s\n",
      "[Parallel(n_jobs=2)]: Done 3984 tasks      | elapsed:    0.7s\n",
      "[Parallel(n_jobs=2)]: Done 4189 tasks      | elapsed:    0.7s\n",
      "[Parallel(n_jobs=2)]: Done 4394 tasks      | elapsed:    0.7s\n",
      "[Parallel(n_jobs=2)]: Done 4609 tasks      | elapsed:    0.7s\n",
      "[Parallel(n_jobs=2)]: Done 4824 tasks      | elapsed:    0.8s\n",
      "[Parallel(n_jobs=2)]: Done 5049 tasks      | elapsed:    0.8s\n",
      "[Parallel(n_jobs=2)]: Done 5274 tasks      | elapsed:    0.8s\n",
      "[Parallel(n_jobs=2)]: Done 5509 tasks      | elapsed:    0.8s\n",
      "[Parallel(n_jobs=2)]: Done 5744 tasks      | elapsed:    0.8s\n",
      "[Parallel(n_jobs=2)]: Done 5989 tasks      | elapsed:    0.9s\n",
      "[Parallel(n_jobs=2)]: Done 6234 tasks      | elapsed:    0.9s\n",
      "[Parallel(n_jobs=2)]: Done 6489 tasks      | elapsed:    0.9s\n",
      "[Parallel(n_jobs=2)]: Done 6744 tasks      | elapsed:    0.9s\n",
      "[Parallel(n_jobs=2)]: Done 7009 tasks      | elapsed:    0.9s\n",
      "[Parallel(n_jobs=2)]: Done 7274 tasks      | elapsed:    1.0s\n",
      "[Parallel(n_jobs=2)]: Done 7549 tasks      | elapsed:    1.0s\n",
      "[Parallel(n_jobs=2)]: Done 7824 tasks      | elapsed:    1.0s\n",
      "[Parallel(n_jobs=2)]: Done 8109 tasks      | elapsed:    1.0s\n",
      "[Parallel(n_jobs=2)]: Done 8394 tasks      | elapsed:    1.1s\n",
      "[Parallel(n_jobs=2)]: Done 8689 tasks      | elapsed:    1.1s\n",
      "[Parallel(n_jobs=2)]: Done 8984 tasks      | elapsed:    1.1s\n",
      "[Parallel(n_jobs=2)]: Done 9289 tasks      | elapsed:    1.1s\n",
      "[Parallel(n_jobs=2)]: Done 9594 tasks      | elapsed:  1.6min\n"
     ]
    }
   ],
   "source": [
    "MIN_OFFSET = 0.000001 # because the search is exclusive\n",
    "\n",
    "class TooMuchException(Exception):\n",
    "    def __init__(self, amount, url):\n",
    "        self.amount = amount\n",
    "        self.url = url\n",
    "\n",
    "def download(year, amount, total_to, postal=None):\n",
    "#             http://beneficjenciwpr.minrol.gov.pl/search/index/year:2020/postal:01-*/totalfrom:119999,999/totalto:120000,001/#outrec\n",
    "    params = {'year': year, 'totalfrom': amount - MIN_OFFSET, 'totalto': total_to}\n",
    "    # params = {'year': year, 'totalfrom': amount - MIN_OFFSET, 'totalto': total_to + (MIN_OFFSET if total_to == 0 else 0) }\n",
    "    if postal is not None:\n",
    "        params.update({'postal': '{}-*'.format(postal)})\n",
    "    url = get_url(params)\n",
    "    \n",
    "    filename = 'data/{year}_{amount}_{total_to}.csv.gz'.format(year=year, amount=amount, total_to=total_to)\n",
    "    if postal is not None:\n",
    "        filename = filename.replace('.csv.gz', '_{}.csv.gz'.format(postal))\n",
    "    if os.path.exists(filename):\n",
    "        return\n",
    "    # print(filename, url)\n",
    "\n",
    "    @backoff.on_exception(backoff.expo,requests.exceptions.RequestException, max_time=60)\n",
    "    def get_with_backoff(url):\n",
    "        return requests.get(url)\n",
    "    \n",
    "    response = get_with_backoff(url)\n",
    "    with gzip.open(filename, 'wb') as f:\n",
    "        if BAD_SENTINEL in response.content:\n",
    "            raise TooMuchException(amount, url)\n",
    "        f.write(response.content)\n",
    "            \n",
    "    # response = requests.get(url, stream=True)\n",
    "    # with gzip.open(filename, 'wb') as f:\n",
    "    #     check = False\n",
    "    #     for chunk in response.iter_content(chunk_size=1024): \n",
    "    #         if chunk:\n",
    "    #             f.write(chunk)\n",
    "    #         if BAD_SENTINEL in chunk:\n",
    "    #             check = True\n",
    "    #             break\n",
    "    #     if check:\n",
    "    #         os.unlink(filename)\n",
    "    #         print(chunk)\n",
    "    #         raise TooMuchException(amount, url)\n",
    "            \n",
    "def download_with_postal(year, amount, total_to):\n",
    "    for postal in range(0, 100):\n",
    "        download(year, amount, total_to, postal='{:0>2}'.format(postal))\n",
    "\n",
    "                \n",
    "def start(year, extra_specials=None):\n",
    "    extra_specials = extra_specials or []\n",
    "    specials = SPECIALS.get(year, [])\n",
    "    specials.extend(extra_specials)\n",
    "    total_to = None\n",
    "    tasks = []\n",
    "    for amount in RANGES:\n",
    "        if total_to is None:\n",
    "            total_to = amount \n",
    "            continue\n",
    "        specs = [s for s in specials if amount <= s < total_to]\n",
    "        # if a range is special, then iterate over post codes as well\n",
    "        if specs:\n",
    "            tasks.append(delayed(download_with_postal)(year, amount, total_to))\n",
    "        else:\n",
    "            tasks.append(delayed(download)(year, amount, total_to))\n",
    "            \n",
    "        total_to = amount\n",
    "    Parallel(n_jobs=2, verbose=10, batch_size=5)(tasks)\n",
    "\n",
    "extra_specials = []\n",
    "while True:\n",
    "    try:\n",
    "        start(YEAR, extra_specials=extra_specials)\n",
    "        break\n",
    "    except ConnectionError as e:\n",
    "        print(e)\n",
    "        time.sleep(10)\n",
    "    except TooMuchException as e:\n",
    "        print(\"too much at\", e.amount)\n",
    "        if e.amount in extra_specials:\n",
    "            print(\"we give up\")\n",
    "            print(e.url)\n",
    "            break\n",
    "        else:\n",
    "            extra_specials.append(e.amount)\n",
    "            print(\"retrying!\")\n",
    "            time.sleep(1)\n",
    "print(extra_specials)"
   ]
  },
  {
   "cell_type": "code",
   "execution_count": null,
   "metadata": {},
   "outputs": [],
   "source": [
    "def get_year(year):\n",
    "    for i, filename in enumerate(tqdm(sorted(glob.glob('data/{}_*.csv.gz'.format(year))))):\n",
    "        if os.stat(filename).st_size <= 50:\n",
    "            continue\n",
    "        if i % 1000 == 0:\n",
    "            print(filename)\n",
    "        print(filename)\n",
    "        df =  pd.read_csv(filename, compression='gzip', encoding='utf-8-sig', sep=';', engine=\"python\", on_bad_lines=\"warn\")\n",
    "        df['fn'] = filename\n",
    "        yield df\n",
    "#         yield pd.DataFrame(poor_csv_parser(filename))"
   ]
  },
  {
   "cell_type": "code",
   "execution_count": null,
   "metadata": {
    "scrolled": true,
    "tags": []
   },
   "outputs": [],
   "source": [
    "df = pd.concat(get_year(YEAR))\n",
    "df.head()"
   ]
  },
  {
   "cell_type": "code",
   "execution_count": null,
   "metadata": {},
   "outputs": [],
   "source": [
    "dupes = df.duplicated(subset=df.columns.tolist()[:-1], keep=False)"
   ]
  },
  {
   "cell_type": "code",
   "execution_count": null,
   "metadata": {},
   "outputs": [],
   "source": [
    "df[dupes].head(50)"
   ]
  },
  {
   "cell_type": "code",
   "execution_count": null,
   "metadata": {},
   "outputs": [],
   "source": [
    "df[dupes].sort_values('Imię')"
   ]
  },
  {
   "cell_type": "code",
   "execution_count": null,
   "metadata": {},
   "outputs": [],
   "source": [
    "df['Suma'] = df['Suma'].replace(',', '.', regex=True).astype('float')"
   ]
  },
  {
   "cell_type": "code",
   "execution_count": null,
   "metadata": {},
   "outputs": [],
   "source": [
    "df_pos = df[df['Suma'] > 0]"
   ]
  },
  {
   "cell_type": "code",
   "execution_count": null,
   "metadata": {},
   "outputs": [],
   "source": [
    "df_pos.shape"
   ]
  },
  {
   "cell_type": "code",
   "execution_count": null,
   "metadata": {},
   "outputs": [],
   "source": [
    "df.shape"
   ]
  },
  {
   "cell_type": "code",
   "execution_count": null,
   "metadata": {},
   "outputs": [],
   "source": [
    "df['Suma'].sum()"
   ]
  },
  {
   "cell_type": "code",
   "execution_count": null,
   "metadata": {},
   "outputs": [],
   "source": [
    "df_pos['Suma'].sum()"
   ]
  },
  {
   "cell_type": "code",
   "execution_count": null,
   "metadata": {},
   "outputs": [],
   "source": [
    "df[df['Suma'] == 0]"
   ]
  },
  {
   "cell_type": "code",
   "execution_count": null,
   "metadata": {},
   "outputs": [],
   "source": [
    "df[df['Nazwisko'] == \"1\"]"
   ]
  },
  {
   "cell_type": "code",
   "execution_count": null,
   "metadata": {},
   "outputs": [],
   "source": [
    "df[df['Nazwisko'] == \"141098\"]"
   ]
  },
  {
   "cell_type": "code",
   "execution_count": null,
   "metadata": {},
   "outputs": [],
   "source": [
    "df[df['Nazwisko'] == \"497873\"]"
   ]
  },
  {
   "cell_type": "code",
   "execution_count": null,
   "metadata": {},
   "outputs": [],
   "source": [
    "df[df['Suma'] < -1].count()"
   ]
  },
  {
   "cell_type": "code",
   "execution_count": null,
   "metadata": {},
   "outputs": [],
   "source": [
    "df[df['Suma'] < -1].sort_values('Suma', ascending=False).iloc[101]"
   ]
  },
  {
   "cell_type": "code",
   "execution_count": null,
   "metadata": {},
   "outputs": [],
   "source": [
    "list(df.columns)"
   ]
  },
  {
   "cell_type": "code",
   "execution_count": null,
   "metadata": {},
   "outputs": [],
   "source": [
    "def apply_fixes(df):\n",
    "    df = df.rename(columns={\n",
    "        'Imię': 'recipient_firstname',\n",
    "        'Nazwisko': 'recipient_lastname',\n",
    "        'Nazwa': 'recipient_name',\n",
    "        'Gmina': 'recipient_location',\n",
    "        'Kod pocztowy': 'recipient_postcode',\n",
    "        '\\ufeff\\ufeff\\ufeffRok': 'year'\n",
    "    })\n",
    "    df = df.drop(columns=['Suma'])\n",
    "    df['recipient_firstname'] = df['recipient_firstname'].fillna('').apply(str)\n",
    "    df['recipient_lastname'] = df['recipient_lastname'].fillna('').apply(str)\n",
    "    df['recipient_name'] = df['recipient_name'].where(df['recipient_name'].notnull(),\n",
    "                                                      df['recipient_firstname'] + ' ' + df['recipient_lastname'])\n",
    "\n",
    "    anonymous = 'Małe gospodarstwo'\n",
    "    df['recipient_name'] = df['recipient_name'].str.replace(anonymous, '').str.strip()\n",
    "    df = df.drop(columns=['recipient_firstname', 'recipient_lastname'])\n",
    "    df['recipient_id'] = df.apply(lambda x: 'PL-%s-%s' % (x['recipient_postcode'], slugify(x['recipient_name'])), 1)\n",
    "    return df"
   ]
  },
  {
   "cell_type": "code",
   "execution_count": null,
   "metadata": {},
   "outputs": [],
   "source": [
    "df = apply_fixes(df)\n",
    "df.head()"
   ]
  },
  {
   "cell_type": "code",
   "execution_count": null,
   "metadata": {},
   "outputs": [],
   "source": [
    "len(df)"
   ]
  },
  {
   "cell_type": "code",
   "execution_count": null,
   "metadata": {},
   "outputs": [],
   "source": [
    "cols = 'recipient_name|recipient_location|recipient_id|recipient_postcode|year'.split('|')\n",
    "scheme_cols = list(set(df.columns) - set(cols))"
   ]
  },
  {
   "cell_type": "code",
   "execution_count": null,
   "metadata": {},
   "outputs": [],
   "source": [
    "len(scheme_cols)"
   ]
  },
  {
   "cell_type": "code",
   "execution_count": null,
   "metadata": {},
   "outputs": [],
   "source": [
    "scheme_cols"
   ]
  },
  {
   "cell_type": "code",
   "execution_count": null,
   "metadata": {},
   "outputs": [],
   "source": [
    "# df['Suma'] = pd.to_numeric(df['Suma'].str.replace(',', '.'))\n",
    "# for c in scheme_cols:\n",
    "#     df[c] = pd.to_numeric(df[c].str.replace(',', '.'))"
   ]
  },
  {
   "cell_type": "code",
   "execution_count": null,
   "metadata": {},
   "outputs": [],
   "source": [
    "# mismatch = np.isclose(df[scheme_cols].sum(1), df['Suma'] , atol=1)\n",
    "# len(df) - mismatch.sum()"
   ]
  },
  {
   "cell_type": "code",
   "execution_count": null,
   "metadata": {},
   "outputs": [],
   "source": [
    "df_final = pd.melt(df, id_vars=cols,  var_name='scheme', value_name='amount', value_vars=scheme_cols)\n",
    "df_final.head()"
   ]
  },
  {
   "cell_type": "code",
   "execution_count": null,
   "metadata": {},
   "outputs": [],
   "source": [
    "df_final = df_final[(df_final['amount'] != 0.0) & df_final['amount'].notnull()]\n",
    "df_final['country'] = 'PL'\n",
    "df_final['currency'] = 'PLN'\n",
    "df_final.head()"
   ]
  },
  {
   "cell_type": "code",
   "execution_count": null,
   "metadata": {},
   "outputs": [],
   "source": [
    "len(df)"
   ]
  },
  {
   "cell_type": "code",
   "execution_count": null,
   "metadata": {},
   "outputs": [],
   "source": [
    "df_final.to_csv('pl_{}.csv.gz'.format(YEAR), compression='gzip', index=False)"
   ]
  }
 ],
 "metadata": {
  "kernelspec": {
   "display_name": "Python 3 (ipykernel)",
   "language": "python",
   "name": "python3"
  },
  "language_info": {
   "codemirror_mode": {
    "name": "ipython",
    "version": 3
   },
   "file_extension": ".py",
   "mimetype": "text/x-python",
   "name": "python",
   "nbconvert_exporter": "python",
   "pygments_lexer": "ipython3",
   "version": "3.10.14"
  }
 },
 "nbformat": 4,
 "nbformat_minor": 4
}
