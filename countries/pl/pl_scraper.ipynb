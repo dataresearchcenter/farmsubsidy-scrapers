{
 "cells": [
  {
   "cell_type": "code",
   "execution_count": 22,
   "metadata": {},
   "outputs": [
    {
     "ename": "ModuleNotFoundError",
     "evalue": "No module named 'tqdm.notebook.tqdm'; 'tqdm.notebook' is not a package",
     "output_type": "error",
     "traceback": [
      "\u001b[0;31m---------------------------------------------------------------------------\u001b[0m",
      "\u001b[0;31mModuleNotFoundError\u001b[0m                       Traceback (most recent call last)",
      "Cell \u001b[0;32mIn[22], line 8\u001b[0m\n\u001b[1;32m      6\u001b[0m \u001b[38;5;28;01mimport\u001b[39;00m \u001b[38;5;21;01mpandas\u001b[39;00m \u001b[38;5;28;01mas\u001b[39;00m \u001b[38;5;21;01mpd\u001b[39;00m\n\u001b[1;32m      7\u001b[0m \u001b[38;5;28;01mimport\u001b[39;00m \u001b[38;5;21;01mnumpy\u001b[39;00m \u001b[38;5;28;01mas\u001b[39;00m \u001b[38;5;21;01mnp\u001b[39;00m\n\u001b[0;32m----> 8\u001b[0m \u001b[38;5;28;01mfrom\u001b[39;00m \u001b[38;5;21;01mtqdm\u001b[39;00m\u001b[38;5;21;01m.\u001b[39;00m\u001b[38;5;21;01mnotebook\u001b[39;00m\u001b[38;5;21;01m.\u001b[39;00m\u001b[38;5;21;01mtqdm\u001b[39;00m \u001b[38;5;28;01mimport\u001b[39;00m tqdm\n\u001b[1;32m     10\u001b[0m \u001b[38;5;28;01mfrom\u001b[39;00m \u001b[38;5;21;01mslugify\u001b[39;00m \u001b[38;5;28;01mimport\u001b[39;00m slugify\n",
      "\u001b[0;31mModuleNotFoundError\u001b[0m: No module named 'tqdm.notebook.tqdm'; 'tqdm.notebook' is not a package"
     ]
    }
   ],
   "source": [
    "import requests\n",
    "import os\n",
    "import gzip\n",
    "import glob\n",
    "\n",
    "import pandas as pd\n",
    "import numpy as np\n",
    "from tqdm.notebook import tqdm\n",
    "\n",
    "from slugify import slugify"
   ]
  },
  {
   "cell_type": "code",
   "execution_count": 36,
   "metadata": {},
   "outputs": [
    {
     "data": {
      "text/plain": [
       "314"
      ]
     },
     "execution_count": 36,
     "metadata": {},
     "output_type": "execute_result"
    }
   ],
   "source": [
    "YEAR = 2023\n",
    "START_AMOUNT = 420000  # PLN, roughly 100k EUR\n",
    "MAX_DIV = 300\n",
    "#  Both ranges are non-inclusive!\n",
    "RANGES = [START_AMOUNT // i for i in range(1, MAX_DIV)] + [i for i in range(START_AMOUNT // MAX_DIV, 0, -100)] + [0]\n",
    "len(RANGES)"
   ]
  },
  {
   "cell_type": "code",
   "execution_count": 5,
   "metadata": {},
   "outputs": [],
   "source": [
    "# These break the export, probably because of non-windows-1250 characters\n",
    "# The downloader queries around these sums and so these recipients are missing from the years\n",
    "SPECIALS = {\n",
    "    2015: [\n",
    "        21016.97, # http://beneficjenciwpr.minrol.gov.pl/outrecords/view/12485559\n",
    "        51755.63, # http://beneficjenciwpr.minrol.gov.pl/outrecords/view/13334673\n",
    "    ],\n",
    "    2016: [\n",
    "        18805.66, # http://beneficjenciwpr.minrol.gov.pl/outrecords/view/16350294\n",
    "    ],\n",
    "    2017: [\n",
    "        \n",
    "    ]\n",
    "}"
   ]
  },
  {
   "cell_type": "code",
   "execution_count": 6,
   "metadata": {},
   "outputs": [],
   "source": [
    "BASE_URL = 'http://beneficjenciwpr.minrol.gov.pl/search/export/csv/'"
   ]
  },
  {
   "cell_type": "code",
   "execution_count": 7,
   "metadata": {},
   "outputs": [],
   "source": [
    "params = {'year': YEAR, 'totalfrom': 420000, 'totalto': None}\n",
    "\n",
    "def get_url(params):\n",
    "    return BASE_URL + '/'.join('{k}:{v}'.format(k=k, v=str(v).replace(\".\", \",\"))\n",
    "                               for k, v in params.items() if v is not None) + '/sort:total/direction:asc'\n"
   ]
  },
  {
   "cell_type": "code",
   "execution_count": 14,
   "metadata": {},
   "outputs": [],
   "source": [
    "def download(year, amount, total_to):\n",
    "    url = get_url({'year': year, 'totalfrom': amount, 'totalto': total_to})\n",
    "    filename = 'data/{year}_{amount}_{total_to}.csv.gz'.format(year=year, amount=amount, total_to=total_to)\n",
    "    if os.path.exists(filename):\n",
    "        return\n",
    "    print(filename, url)\n",
    "    response = requests.get(url, stream=True)\n",
    "    with gzip.open(filename, 'wb') as f:\n",
    "        for chunk in response.iter_content(chunk_size=1024): \n",
    "            if chunk:\n",
    "                f.write(chunk)\n",
    "\n",
    "                \n",
    "def start(year):\n",
    "    specials = SPECIALS.get(year, [])\n",
    "    total_to = None\n",
    "    for amount in RANGES:\n",
    "        print(amount, total_to)\n",
    "        specs = []\n",
    "        if total_to is not None:\n",
    "            specs = [s for s in specials if amount < s < total_to]\n",
    "        if specs:\n",
    "            download(year, amount, specs[0])\n",
    "            download(year, specs[0], total_to)\n",
    "        else:\n",
    "            download(year, amount, total_to)\n",
    "        total_to = amount+0.001"
   ]
  },
  {
   "cell_type": "code",
   "execution_count": 16,
   "metadata": {},
   "outputs": [
    {
     "name": "stdout",
     "output_type": "stream",
     "text": [
      "data/2023_0_1000.csv.gz http://beneficjenciwpr.minrol.gov.pl/search/export/csv/year:2023/totalfrom:0/totalto:1000/sort:total/direction:asc\n"
     ]
    }
   ],
   "source": [
    "download(2023, 0, 1000)"
   ]
  },
  {
   "cell_type": "code",
   "execution_count": 32,
   "metadata": {},
   "outputs": [],
   "source": [
    "def get_year(year):\n",
    "    for filename in (glob.glob('data/{}_*.csv.gz'.format(year))):\n",
    "        print(filename)\n",
    "        yield pd.read_csv(filename, compression='gzip', encoding='windows-1250', sep=';')"
   ]
  },
  {
   "cell_type": "code",
   "execution_count": 29,
   "metadata": {},
   "outputs": [],
   "source": [
    "# with gzip.open('data/2016_11666_12000.001.csv.gz') as f:\n",
    "#     print(f.read()[:10400].decode('windows-1250'))"
   ]
  },
  {
   "cell_type": "code",
   "execution_count": 33,
   "metadata": {},
   "outputs": [],
   "source": [
    "def apply_fixes(df):\n",
    "    df = df.rename(columns={\n",
    "        'Imię': 'recipient_firstname',\n",
    "        'Nazwisko': 'recipient_lastname',\n",
    "        'Nazwa': 'recipient_name',\n",
    "        'Gmina': 'recipient_location',\n",
    "        'Kod pocztowy': 'recipient_postcode',\n",
    "        'Rok': 'year'\n",
    "    })\n",
    "    df = df.drop(columns=['Suma'])\n",
    "    df['recipient_firstname'] = df['recipient_firstname'].fillna('').apply(str)\n",
    "    df['recipient_lastname'] = df['recipient_lastname'].fillna('').apply(str)\n",
    "    df['recipient_name'] = df['recipient_name'].where(df['recipient_name'].notnull(),\n",
    "                                                      df['recipient_firstname'] + ' ' + df['recipient_lastname'])\n",
    "\n",
    "    anonymous = 'Małe gospodarstwo'\n",
    "    df['recipient_name'] = df['recipient_name'].str.replace(anonymous, '').str.strip()\n",
    "    df = df.drop(columns=['recipient_firstname', 'recipient_lastname'])\n",
    "    df['recipient_id'] = df.apply(lambda x: '%s-%s-%s' % (slugify(x['recipient_name']), x['recipient_postcode'], x['year']), 1)\n",
    "    return df"
   ]
  },
  {
   "cell_type": "code",
   "execution_count": 37,
   "metadata": {},
   "outputs": [
    {
     "data": {
      "text/plain": [
       "<generator object get_year at 0x12a098190>"
      ]
     },
     "execution_count": 37,
     "metadata": {},
     "output_type": "execute_result"
    }
   ],
   "source": [
    "get_year(2023)"
   ]
  },
  {
   "cell_type": "code",
   "execution_count": 38,
   "metadata": {},
   "outputs": [
    {
     "name": "stdout",
     "output_type": "stream",
     "text": [
      "data/2023_0_1000.csv.gz\n"
     ]
    },
    {
     "ename": "ParserError",
     "evalue": "Error tokenizing data. C error: Expected 1 fields in line 7, saw 2\n",
     "output_type": "error",
     "traceback": [
      "\u001b[0;31m---------------------------------------------------------------------------\u001b[0m",
      "\u001b[0;31mParserError\u001b[0m                               Traceback (most recent call last)",
      "Cell \u001b[0;32mIn[38], line 1\u001b[0m\n\u001b[0;32m----> 1\u001b[0m df \u001b[38;5;241m=\u001b[39m \u001b[43mpd\u001b[49m\u001b[38;5;241;43m.\u001b[39;49m\u001b[43mconcat\u001b[49m\u001b[43m(\u001b[49m\u001b[43mget_year\u001b[49m\u001b[43m(\u001b[49m\u001b[43mYEAR\u001b[49m\u001b[43m)\u001b[49m\u001b[43m)\u001b[49m\n\u001b[1;32m      2\u001b[0m df \u001b[38;5;241m=\u001b[39m apply_fixes(df)\n\u001b[1;32m      3\u001b[0m df\u001b[38;5;241m.\u001b[39mhead()\n",
      "File \u001b[0;32m~/code/farmsubsidy-scrapers/env/lib/python3.10/site-packages/pandas/core/reshape/concat.py:382\u001b[0m, in \u001b[0;36mconcat\u001b[0;34m(objs, axis, join, ignore_index, keys, levels, names, verify_integrity, sort, copy)\u001b[0m\n\u001b[1;32m    379\u001b[0m \u001b[38;5;28;01melif\u001b[39;00m copy \u001b[38;5;129;01mand\u001b[39;00m using_copy_on_write():\n\u001b[1;32m    380\u001b[0m     copy \u001b[38;5;241m=\u001b[39m \u001b[38;5;28;01mFalse\u001b[39;00m\n\u001b[0;32m--> 382\u001b[0m op \u001b[38;5;241m=\u001b[39m \u001b[43m_Concatenator\u001b[49m\u001b[43m(\u001b[49m\n\u001b[1;32m    383\u001b[0m \u001b[43m    \u001b[49m\u001b[43mobjs\u001b[49m\u001b[43m,\u001b[49m\n\u001b[1;32m    384\u001b[0m \u001b[43m    \u001b[49m\u001b[43maxis\u001b[49m\u001b[38;5;241;43m=\u001b[39;49m\u001b[43maxis\u001b[49m\u001b[43m,\u001b[49m\n\u001b[1;32m    385\u001b[0m \u001b[43m    \u001b[49m\u001b[43mignore_index\u001b[49m\u001b[38;5;241;43m=\u001b[39;49m\u001b[43mignore_index\u001b[49m\u001b[43m,\u001b[49m\n\u001b[1;32m    386\u001b[0m \u001b[43m    \u001b[49m\u001b[43mjoin\u001b[49m\u001b[38;5;241;43m=\u001b[39;49m\u001b[43mjoin\u001b[49m\u001b[43m,\u001b[49m\n\u001b[1;32m    387\u001b[0m \u001b[43m    \u001b[49m\u001b[43mkeys\u001b[49m\u001b[38;5;241;43m=\u001b[39;49m\u001b[43mkeys\u001b[49m\u001b[43m,\u001b[49m\n\u001b[1;32m    388\u001b[0m \u001b[43m    \u001b[49m\u001b[43mlevels\u001b[49m\u001b[38;5;241;43m=\u001b[39;49m\u001b[43mlevels\u001b[49m\u001b[43m,\u001b[49m\n\u001b[1;32m    389\u001b[0m \u001b[43m    \u001b[49m\u001b[43mnames\u001b[49m\u001b[38;5;241;43m=\u001b[39;49m\u001b[43mnames\u001b[49m\u001b[43m,\u001b[49m\n\u001b[1;32m    390\u001b[0m \u001b[43m    \u001b[49m\u001b[43mverify_integrity\u001b[49m\u001b[38;5;241;43m=\u001b[39;49m\u001b[43mverify_integrity\u001b[49m\u001b[43m,\u001b[49m\n\u001b[1;32m    391\u001b[0m \u001b[43m    \u001b[49m\u001b[43mcopy\u001b[49m\u001b[38;5;241;43m=\u001b[39;49m\u001b[43mcopy\u001b[49m\u001b[43m,\u001b[49m\n\u001b[1;32m    392\u001b[0m \u001b[43m    \u001b[49m\u001b[43msort\u001b[49m\u001b[38;5;241;43m=\u001b[39;49m\u001b[43msort\u001b[49m\u001b[43m,\u001b[49m\n\u001b[1;32m    393\u001b[0m \u001b[43m\u001b[49m\u001b[43m)\u001b[49m\n\u001b[1;32m    395\u001b[0m \u001b[38;5;28;01mreturn\u001b[39;00m op\u001b[38;5;241m.\u001b[39mget_result()\n",
      "File \u001b[0;32m~/code/farmsubsidy-scrapers/env/lib/python3.10/site-packages/pandas/core/reshape/concat.py:445\u001b[0m, in \u001b[0;36m_Concatenator.__init__\u001b[0;34m(self, objs, axis, join, keys, levels, names, ignore_index, verify_integrity, copy, sort)\u001b[0m\n\u001b[1;32m    442\u001b[0m \u001b[38;5;28mself\u001b[39m\u001b[38;5;241m.\u001b[39mverify_integrity \u001b[38;5;241m=\u001b[39m verify_integrity\n\u001b[1;32m    443\u001b[0m \u001b[38;5;28mself\u001b[39m\u001b[38;5;241m.\u001b[39mcopy \u001b[38;5;241m=\u001b[39m copy\n\u001b[0;32m--> 445\u001b[0m objs, keys \u001b[38;5;241m=\u001b[39m \u001b[38;5;28;43mself\u001b[39;49m\u001b[38;5;241;43m.\u001b[39;49m\u001b[43m_clean_keys_and_objs\u001b[49m\u001b[43m(\u001b[49m\u001b[43mobjs\u001b[49m\u001b[43m,\u001b[49m\u001b[43m \u001b[49m\u001b[43mkeys\u001b[49m\u001b[43m)\u001b[49m\n\u001b[1;32m    447\u001b[0m \u001b[38;5;66;03m# figure out what our result ndim is going to be\u001b[39;00m\n\u001b[1;32m    448\u001b[0m ndims \u001b[38;5;241m=\u001b[39m \u001b[38;5;28mself\u001b[39m\u001b[38;5;241m.\u001b[39m_get_ndims(objs)\n",
      "File \u001b[0;32m~/code/farmsubsidy-scrapers/env/lib/python3.10/site-packages/pandas/core/reshape/concat.py:504\u001b[0m, in \u001b[0;36m_Concatenator._clean_keys_and_objs\u001b[0;34m(self, objs, keys)\u001b[0m\n\u001b[1;32m    502\u001b[0m     objs_list \u001b[38;5;241m=\u001b[39m [objs[k] \u001b[38;5;28;01mfor\u001b[39;00m k \u001b[38;5;129;01min\u001b[39;00m keys]\n\u001b[1;32m    503\u001b[0m \u001b[38;5;28;01melse\u001b[39;00m:\n\u001b[0;32m--> 504\u001b[0m     objs_list \u001b[38;5;241m=\u001b[39m \u001b[38;5;28;43mlist\u001b[39;49m\u001b[43m(\u001b[49m\u001b[43mobjs\u001b[49m\u001b[43m)\u001b[49m\n\u001b[1;32m    506\u001b[0m \u001b[38;5;28;01mif\u001b[39;00m \u001b[38;5;28mlen\u001b[39m(objs_list) \u001b[38;5;241m==\u001b[39m \u001b[38;5;241m0\u001b[39m:\n\u001b[1;32m    507\u001b[0m     \u001b[38;5;28;01mraise\u001b[39;00m \u001b[38;5;167;01mValueError\u001b[39;00m(\u001b[38;5;124m\"\u001b[39m\u001b[38;5;124mNo objects to concatenate\u001b[39m\u001b[38;5;124m\"\u001b[39m)\n",
      "Cell \u001b[0;32mIn[32], line 4\u001b[0m, in \u001b[0;36mget_year\u001b[0;34m(year)\u001b[0m\n\u001b[1;32m      2\u001b[0m \u001b[38;5;28;01mfor\u001b[39;00m filename \u001b[38;5;129;01min\u001b[39;00m (glob\u001b[38;5;241m.\u001b[39mglob(\u001b[38;5;124m'\u001b[39m\u001b[38;5;124mdata/\u001b[39m\u001b[38;5;132;01m{}\u001b[39;00m\u001b[38;5;124m_*.csv.gz\u001b[39m\u001b[38;5;124m'\u001b[39m\u001b[38;5;241m.\u001b[39mformat(year))):\n\u001b[1;32m      3\u001b[0m     \u001b[38;5;28mprint\u001b[39m(filename)\n\u001b[0;32m----> 4\u001b[0m     \u001b[38;5;28;01myield\u001b[39;00m \u001b[43mpd\u001b[49m\u001b[38;5;241;43m.\u001b[39;49m\u001b[43mread_csv\u001b[49m\u001b[43m(\u001b[49m\u001b[43mfilename\u001b[49m\u001b[43m,\u001b[49m\u001b[43m \u001b[49m\u001b[43mcompression\u001b[49m\u001b[38;5;241;43m=\u001b[39;49m\u001b[38;5;124;43m'\u001b[39;49m\u001b[38;5;124;43mgzip\u001b[39;49m\u001b[38;5;124;43m'\u001b[39;49m\u001b[43m,\u001b[49m\u001b[43m \u001b[49m\u001b[43mencoding\u001b[49m\u001b[38;5;241;43m=\u001b[39;49m\u001b[38;5;124;43m'\u001b[39;49m\u001b[38;5;124;43mwindows-1250\u001b[39;49m\u001b[38;5;124;43m'\u001b[39;49m\u001b[43m,\u001b[49m\u001b[43m \u001b[49m\u001b[43msep\u001b[49m\u001b[38;5;241;43m=\u001b[39;49m\u001b[38;5;124;43m'\u001b[39;49m\u001b[38;5;124;43m;\u001b[39;49m\u001b[38;5;124;43m'\u001b[39;49m\u001b[43m)\u001b[49m\n",
      "File \u001b[0;32m~/code/farmsubsidy-scrapers/env/lib/python3.10/site-packages/pandas/io/parsers/readers.py:1026\u001b[0m, in \u001b[0;36mread_csv\u001b[0;34m(filepath_or_buffer, sep, delimiter, header, names, index_col, usecols, dtype, engine, converters, true_values, false_values, skipinitialspace, skiprows, skipfooter, nrows, na_values, keep_default_na, na_filter, verbose, skip_blank_lines, parse_dates, infer_datetime_format, keep_date_col, date_parser, date_format, dayfirst, cache_dates, iterator, chunksize, compression, thousands, decimal, lineterminator, quotechar, quoting, doublequote, escapechar, comment, encoding, encoding_errors, dialect, on_bad_lines, delim_whitespace, low_memory, memory_map, float_precision, storage_options, dtype_backend)\u001b[0m\n\u001b[1;32m   1013\u001b[0m kwds_defaults \u001b[38;5;241m=\u001b[39m _refine_defaults_read(\n\u001b[1;32m   1014\u001b[0m     dialect,\n\u001b[1;32m   1015\u001b[0m     delimiter,\n\u001b[0;32m   (...)\u001b[0m\n\u001b[1;32m   1022\u001b[0m     dtype_backend\u001b[38;5;241m=\u001b[39mdtype_backend,\n\u001b[1;32m   1023\u001b[0m )\n\u001b[1;32m   1024\u001b[0m kwds\u001b[38;5;241m.\u001b[39mupdate(kwds_defaults)\n\u001b[0;32m-> 1026\u001b[0m \u001b[38;5;28;01mreturn\u001b[39;00m \u001b[43m_read\u001b[49m\u001b[43m(\u001b[49m\u001b[43mfilepath_or_buffer\u001b[49m\u001b[43m,\u001b[49m\u001b[43m \u001b[49m\u001b[43mkwds\u001b[49m\u001b[43m)\u001b[49m\n",
      "File \u001b[0;32m~/code/farmsubsidy-scrapers/env/lib/python3.10/site-packages/pandas/io/parsers/readers.py:626\u001b[0m, in \u001b[0;36m_read\u001b[0;34m(filepath_or_buffer, kwds)\u001b[0m\n\u001b[1;32m    623\u001b[0m     \u001b[38;5;28;01mreturn\u001b[39;00m parser\n\u001b[1;32m    625\u001b[0m \u001b[38;5;28;01mwith\u001b[39;00m parser:\n\u001b[0;32m--> 626\u001b[0m     \u001b[38;5;28;01mreturn\u001b[39;00m \u001b[43mparser\u001b[49m\u001b[38;5;241;43m.\u001b[39;49m\u001b[43mread\u001b[49m\u001b[43m(\u001b[49m\u001b[43mnrows\u001b[49m\u001b[43m)\u001b[49m\n",
      "File \u001b[0;32m~/code/farmsubsidy-scrapers/env/lib/python3.10/site-packages/pandas/io/parsers/readers.py:1923\u001b[0m, in \u001b[0;36mTextFileReader.read\u001b[0;34m(self, nrows)\u001b[0m\n\u001b[1;32m   1916\u001b[0m nrows \u001b[38;5;241m=\u001b[39m validate_integer(\u001b[38;5;124m\"\u001b[39m\u001b[38;5;124mnrows\u001b[39m\u001b[38;5;124m\"\u001b[39m, nrows)\n\u001b[1;32m   1917\u001b[0m \u001b[38;5;28;01mtry\u001b[39;00m:\n\u001b[1;32m   1918\u001b[0m     \u001b[38;5;66;03m# error: \"ParserBase\" has no attribute \"read\"\u001b[39;00m\n\u001b[1;32m   1919\u001b[0m     (\n\u001b[1;32m   1920\u001b[0m         index,\n\u001b[1;32m   1921\u001b[0m         columns,\n\u001b[1;32m   1922\u001b[0m         col_dict,\n\u001b[0;32m-> 1923\u001b[0m     ) \u001b[38;5;241m=\u001b[39m \u001b[38;5;28;43mself\u001b[39;49m\u001b[38;5;241;43m.\u001b[39;49m\u001b[43m_engine\u001b[49m\u001b[38;5;241;43m.\u001b[39;49m\u001b[43mread\u001b[49m\u001b[43m(\u001b[49m\u001b[43m  \u001b[49m\u001b[38;5;66;43;03m# type: ignore[attr-defined]\u001b[39;49;00m\n\u001b[1;32m   1924\u001b[0m \u001b[43m        \u001b[49m\u001b[43mnrows\u001b[49m\n\u001b[1;32m   1925\u001b[0m \u001b[43m    \u001b[49m\u001b[43m)\u001b[49m\n\u001b[1;32m   1926\u001b[0m \u001b[38;5;28;01mexcept\u001b[39;00m \u001b[38;5;167;01mException\u001b[39;00m:\n\u001b[1;32m   1927\u001b[0m     \u001b[38;5;28mself\u001b[39m\u001b[38;5;241m.\u001b[39mclose()\n",
      "File \u001b[0;32m~/code/farmsubsidy-scrapers/env/lib/python3.10/site-packages/pandas/io/parsers/c_parser_wrapper.py:234\u001b[0m, in \u001b[0;36mCParserWrapper.read\u001b[0;34m(self, nrows)\u001b[0m\n\u001b[1;32m    232\u001b[0m \u001b[38;5;28;01mtry\u001b[39;00m:\n\u001b[1;32m    233\u001b[0m     \u001b[38;5;28;01mif\u001b[39;00m \u001b[38;5;28mself\u001b[39m\u001b[38;5;241m.\u001b[39mlow_memory:\n\u001b[0;32m--> 234\u001b[0m         chunks \u001b[38;5;241m=\u001b[39m \u001b[38;5;28;43mself\u001b[39;49m\u001b[38;5;241;43m.\u001b[39;49m\u001b[43m_reader\u001b[49m\u001b[38;5;241;43m.\u001b[39;49m\u001b[43mread_low_memory\u001b[49m\u001b[43m(\u001b[49m\u001b[43mnrows\u001b[49m\u001b[43m)\u001b[49m\n\u001b[1;32m    235\u001b[0m         \u001b[38;5;66;03m# destructive to chunks\u001b[39;00m\n\u001b[1;32m    236\u001b[0m         data \u001b[38;5;241m=\u001b[39m _concatenate_chunks(chunks)\n",
      "File \u001b[0;32mparsers.pyx:838\u001b[0m, in \u001b[0;36mpandas._libs.parsers.TextReader.read_low_memory\u001b[0;34m()\u001b[0m\n",
      "File \u001b[0;32mparsers.pyx:905\u001b[0m, in \u001b[0;36mpandas._libs.parsers.TextReader._read_rows\u001b[0;34m()\u001b[0m\n",
      "File \u001b[0;32mparsers.pyx:874\u001b[0m, in \u001b[0;36mpandas._libs.parsers.TextReader._tokenize_rows\u001b[0;34m()\u001b[0m\n",
      "File \u001b[0;32mparsers.pyx:891\u001b[0m, in \u001b[0;36mpandas._libs.parsers.TextReader._check_tokenize_status\u001b[0;34m()\u001b[0m\n",
      "File \u001b[0;32mparsers.pyx:2061\u001b[0m, in \u001b[0;36mpandas._libs.parsers.raise_parser_error\u001b[0;34m()\u001b[0m\n",
      "\u001b[0;31mParserError\u001b[0m: Error tokenizing data. C error: Expected 1 fields in line 7, saw 2\n"
     ]
    }
   ],
   "source": [
    "df = pd.concat(get_year(YEAR))\n",
    "df = apply_fixes(df)\n",
    "df.head()"
   ]
  },
  {
   "cell_type": "code",
   "execution_count": 39,
   "metadata": {},
   "outputs": [
    {
     "ename": "NameError",
     "evalue": "name 'df' is not defined",
     "output_type": "error",
     "traceback": [
      "\u001b[0;31m---------------------------------------------------------------------------\u001b[0m",
      "\u001b[0;31mNameError\u001b[0m                                 Traceback (most recent call last)",
      "Cell \u001b[0;32mIn[39], line 1\u001b[0m\n\u001b[0;32m----> 1\u001b[0m \u001b[38;5;28mlen\u001b[39m(\u001b[43mdf\u001b[49m)\n",
      "\u001b[0;31mNameError\u001b[0m: name 'df' is not defined"
     ]
    }
   ],
   "source": [
    "len(df)"
   ]
  },
  {
   "cell_type": "code",
   "execution_count": 8,
   "metadata": {},
   "outputs": [],
   "source": [
    "cols = 'recipient_name|recipient_location|recipient_id|recipient_postcode|year'.split('|')\n",
    "scheme_cols = list(set(df.columns) - set(cols))"
   ]
  },
  {
   "cell_type": "code",
   "execution_count": 9,
   "metadata": {},
   "outputs": [
    {
     "data": {
      "text/plain": [
       "102"
      ]
     },
     "execution_count": 9,
     "metadata": {},
     "output_type": "execute_result"
    }
   ],
   "source": [
    "len(scheme_cols)"
   ]
  },
  {
   "cell_type": "code",
   "execution_count": 10,
   "metadata": {},
   "outputs": [],
   "source": [
    "# df['Suma'] = pd.to_numeric(df['Suma'].str.replace(',', '.'))\n",
    "for c in scheme_cols:\n",
    "    df[c] = pd.to_numeric(df[c].str.replace(',', '.'))"
   ]
  },
  {
   "cell_type": "code",
   "execution_count": 11,
   "metadata": {},
   "outputs": [],
   "source": [
    "# mismatch = np.isclose(df[scheme_cols].sum(1), df['Suma'] , atol=1)\n",
    "# len(df) - mismatch.sum()"
   ]
  },
  {
   "cell_type": "code",
   "execution_count": 12,
   "metadata": {},
   "outputs": [
    {
     "data": {
      "text/html": [
       "<div>\n",
       "<style scoped>\n",
       "    .dataframe tbody tr th:only-of-type {\n",
       "        vertical-align: middle;\n",
       "    }\n",
       "\n",
       "    .dataframe tbody tr th {\n",
       "        vertical-align: top;\n",
       "    }\n",
       "\n",
       "    .dataframe thead th {\n",
       "        text-align: right;\n",
       "    }\n",
       "</style>\n",
       "<table border=\"1\" class=\"dataframe\">\n",
       "  <thead>\n",
       "    <tr style=\"text-align: right;\">\n",
       "      <th></th>\n",
       "      <th>recipient_name</th>\n",
       "      <th>recipient_location</th>\n",
       "      <th>recipient_id</th>\n",
       "      <th>recipient_postcode</th>\n",
       "      <th>year</th>\n",
       "      <th>scheme</th>\n",
       "      <th>amount</th>\n",
       "    </tr>\n",
       "  </thead>\n",
       "  <tbody>\n",
       "    <tr>\n",
       "      <th>0</th>\n",
       "      <td>KOŁO ŁOWIECKIE PUSZCZA W BIAŁOWIEŻY</td>\n",
       "      <td>BIAŁOWIEŻA</td>\n",
       "      <td>kolo-lowieckie-puszcza-w-bialowiezy-17-230-2017</td>\n",
       "      <td>17-230</td>\n",
       "      <td>2017</td>\n",
       "      <td>III.4 Program dla sektora owocow i warzyw</td>\n",
       "      <td>0.0</td>\n",
       "    </tr>\n",
       "    <tr>\n",
       "      <th>1</th>\n",
       "      <td>\"PRZEDSIĘBIORSTWO PRODUKCYJNO-HANDLOWO-USŁUGOW...</td>\n",
       "      <td>BUK</td>\n",
       "      <td>przedsiebiorstwo-produkcyjno-handlowo-uslugowe...</td>\n",
       "      <td>64-320</td>\n",
       "      <td>2017</td>\n",
       "      <td>III.4 Program dla sektora owocow i warzyw</td>\n",
       "      <td>0.0</td>\n",
       "    </tr>\n",
       "    <tr>\n",
       "      <th>2</th>\n",
       "      <td>ROBERT NOWOROLNIK - GOSPODARSTWO ROLNE</td>\n",
       "      <td>JODŁOWNIK</td>\n",
       "      <td>robert-noworolnik-gospodarstwo-rolne-34-620-2017</td>\n",
       "      <td>34-620</td>\n",
       "      <td>2017</td>\n",
       "      <td>III.4 Program dla sektora owocow i warzyw</td>\n",
       "      <td>0.0</td>\n",
       "    </tr>\n",
       "    <tr>\n",
       "      <th>3</th>\n",
       "      <td>JUSTYNA ROZMIAREK GOSPODARSTWO ROLNE</td>\n",
       "      <td>KÓRNIK</td>\n",
       "      <td>justyna-rozmiarek-gospodarstwo-rolne-62-035-2017</td>\n",
       "      <td>62-035</td>\n",
       "      <td>2017</td>\n",
       "      <td>III.4 Program dla sektora owocow i warzyw</td>\n",
       "      <td>0.0</td>\n",
       "    </tr>\n",
       "    <tr>\n",
       "      <th>4</th>\n",
       "      <td>ROLNICZO WYTWÓRCZY KOMBINAT SPÓŁDZIELCZY IM, A...</td>\n",
       "      <td>LEŻAJSK</td>\n",
       "      <td>rolniczo-wytworczy-kombinat-spoldzielczy-im-an...</td>\n",
       "      <td>37-305</td>\n",
       "      <td>2017</td>\n",
       "      <td>III.4 Program dla sektora owocow i warzyw</td>\n",
       "      <td>0.0</td>\n",
       "    </tr>\n",
       "  </tbody>\n",
       "</table>\n",
       "</div>"
      ],
      "text/plain": [
       "                                      recipient_name recipient_location  \\\n",
       "0                KOŁO ŁOWIECKIE PUSZCZA W BIAŁOWIEŻY         BIAŁOWIEŻA   \n",
       "1  \"PRZEDSIĘBIORSTWO PRODUKCYJNO-HANDLOWO-USŁUGOW...                BUK   \n",
       "2             ROBERT NOWOROLNIK - GOSPODARSTWO ROLNE          JODŁOWNIK   \n",
       "3               JUSTYNA ROZMIAREK GOSPODARSTWO ROLNE             KÓRNIK   \n",
       "4  ROLNICZO WYTWÓRCZY KOMBINAT SPÓŁDZIELCZY IM, A...            LEŻAJSK   \n",
       "\n",
       "                                        recipient_id recipient_postcode  year  \\\n",
       "0    kolo-lowieckie-puszcza-w-bialowiezy-17-230-2017             17-230  2017   \n",
       "1  przedsiebiorstwo-produkcyjno-handlowo-uslugowe...             64-320  2017   \n",
       "2   robert-noworolnik-gospodarstwo-rolne-34-620-2017             34-620  2017   \n",
       "3   justyna-rozmiarek-gospodarstwo-rolne-62-035-2017             62-035  2017   \n",
       "4  rolniczo-wytworczy-kombinat-spoldzielczy-im-an...             37-305  2017   \n",
       "\n",
       "                                      scheme  amount  \n",
       "0  III.4 Program dla sektora owocow i warzyw     0.0  \n",
       "1  III.4 Program dla sektora owocow i warzyw     0.0  \n",
       "2  III.4 Program dla sektora owocow i warzyw     0.0  \n",
       "3  III.4 Program dla sektora owocow i warzyw     0.0  \n",
       "4  III.4 Program dla sektora owocow i warzyw     0.0  "
      ]
     },
     "execution_count": 12,
     "metadata": {},
     "output_type": "execute_result"
    }
   ],
   "source": [
    "df_final = pd.melt(df, id_vars=cols,  var_name='scheme', value_name='amount', value_vars=scheme_cols)\n",
    "df_final.head()"
   ]
  },
  {
   "cell_type": "code",
   "execution_count": 13,
   "metadata": {},
   "outputs": [
    {
     "data": {
      "text/html": [
       "<div>\n",
       "<style scoped>\n",
       "    .dataframe tbody tr th:only-of-type {\n",
       "        vertical-align: middle;\n",
       "    }\n",
       "\n",
       "    .dataframe tbody tr th {\n",
       "        vertical-align: top;\n",
       "    }\n",
       "\n",
       "    .dataframe thead th {\n",
       "        text-align: right;\n",
       "    }\n",
       "</style>\n",
       "<table border=\"1\" class=\"dataframe\">\n",
       "  <thead>\n",
       "    <tr style=\"text-align: right;\">\n",
       "      <th></th>\n",
       "      <th>recipient_name</th>\n",
       "      <th>recipient_location</th>\n",
       "      <th>recipient_id</th>\n",
       "      <th>recipient_postcode</th>\n",
       "      <th>year</th>\n",
       "      <th>scheme</th>\n",
       "      <th>amount</th>\n",
       "      <th>country</th>\n",
       "      <th>currency</th>\n",
       "    </tr>\n",
       "  </thead>\n",
       "  <tbody>\n",
       "    <tr>\n",
       "      <th>48336</th>\n",
       "      <td>PRZEDSZKOLE NR 1 W NOWEJ DĘBIE</td>\n",
       "      <td>NOWA DĘBA</td>\n",
       "      <td>przedszkole-nr-1-w-nowej-debie-39-460-2017</td>\n",
       "      <td>39-460</td>\n",
       "      <td>2017</td>\n",
       "      <td>III.4 Program dla sektora owocow i warzyw</td>\n",
       "      <td>1893.11</td>\n",
       "      <td>PL</td>\n",
       "      <td>PLN</td>\n",
       "    </tr>\n",
       "    <tr>\n",
       "      <th>50864</th>\n",
       "      <td>PRZEDSZKOLE MIEJSKIE Z ODDZIAŁEM SPECJALNYM I ...</td>\n",
       "      <td>MIŃSK MAZOWIECKI</td>\n",
       "      <td>przedszkole-miejskie-z-oddzialem-specjalnym-i-...</td>\n",
       "      <td>05-300</td>\n",
       "      <td>2017</td>\n",
       "      <td>III.4 Program dla sektora owocow i warzyw</td>\n",
       "      <td>1405.63</td>\n",
       "      <td>PL</td>\n",
       "      <td>PLN</td>\n",
       "    </tr>\n",
       "    <tr>\n",
       "      <th>52683</th>\n",
       "      <td>PRZEDSZKOLE NR 3</td>\n",
       "      <td>PŁOŃSK</td>\n",
       "      <td>przedszkole-nr-3-09-100-2017</td>\n",
       "      <td>09-100</td>\n",
       "      <td>2017</td>\n",
       "      <td>III.4 Program dla sektora owocow i warzyw</td>\n",
       "      <td>3675.68</td>\n",
       "      <td>PL</td>\n",
       "      <td>PLN</td>\n",
       "    </tr>\n",
       "    <tr>\n",
       "      <th>81305</th>\n",
       "      <td>\"PRZEDSZKOLE NR 9 IM, \"\"JASIA I MAŁGOSI\"\"\"</td>\n",
       "      <td>WOŁOMIN</td>\n",
       "      <td>przedszkole-nr-9-im-jasia-i-malgosi-05-200-2017</td>\n",
       "      <td>05-200</td>\n",
       "      <td>2017</td>\n",
       "      <td>III.4 Program dla sektora owocow i warzyw</td>\n",
       "      <td>3445.94</td>\n",
       "      <td>PL</td>\n",
       "      <td>PLN</td>\n",
       "    </tr>\n",
       "    <tr>\n",
       "      <th>87817</th>\n",
       "      <td>ZESPÓŁ SZKÓŁ LEŚNYCH IM, UNII EUROPEJSKIEJ  W ...</td>\n",
       "      <td>RUCIANE-NIDA</td>\n",
       "      <td>zespol-szkol-lesnych-im-unii-europejskiej-w-ru...</td>\n",
       "      <td>12-220</td>\n",
       "      <td>2017</td>\n",
       "      <td>III.4 Program dla sektora owocow i warzyw</td>\n",
       "      <td>6034.09</td>\n",
       "      <td>PL</td>\n",
       "      <td>PLN</td>\n",
       "    </tr>\n",
       "  </tbody>\n",
       "</table>\n",
       "</div>"
      ],
      "text/plain": [
       "                                          recipient_name recipient_location  \\\n",
       "48336                     PRZEDSZKOLE NR 1 W NOWEJ DĘBIE          NOWA DĘBA   \n",
       "50864  PRZEDSZKOLE MIEJSKIE Z ODDZIAŁEM SPECJALNYM I ...   MIŃSK MAZOWIECKI   \n",
       "52683                                   PRZEDSZKOLE NR 3             PŁOŃSK   \n",
       "81305         \"PRZEDSZKOLE NR 9 IM, \"\"JASIA I MAŁGOSI\"\"\"            WOŁOMIN   \n",
       "87817  ZESPÓŁ SZKÓŁ LEŚNYCH IM, UNII EUROPEJSKIEJ  W ...       RUCIANE-NIDA   \n",
       "\n",
       "                                            recipient_id recipient_postcode  \\\n",
       "48336         przedszkole-nr-1-w-nowej-debie-39-460-2017             39-460   \n",
       "50864  przedszkole-miejskie-z-oddzialem-specjalnym-i-...             05-300   \n",
       "52683                       przedszkole-nr-3-09-100-2017             09-100   \n",
       "81305    przedszkole-nr-9-im-jasia-i-malgosi-05-200-2017             05-200   \n",
       "87817  zespol-szkol-lesnych-im-unii-europejskiej-w-ru...             12-220   \n",
       "\n",
       "       year                                     scheme   amount country  \\\n",
       "48336  2017  III.4 Program dla sektora owocow i warzyw  1893.11      PL   \n",
       "50864  2017  III.4 Program dla sektora owocow i warzyw  1405.63      PL   \n",
       "52683  2017  III.4 Program dla sektora owocow i warzyw  3675.68      PL   \n",
       "81305  2017  III.4 Program dla sektora owocow i warzyw  3445.94      PL   \n",
       "87817  2017  III.4 Program dla sektora owocow i warzyw  6034.09      PL   \n",
       "\n",
       "      currency  \n",
       "48336      PLN  \n",
       "50864      PLN  \n",
       "52683      PLN  \n",
       "81305      PLN  \n",
       "87817      PLN  "
      ]
     },
     "execution_count": 13,
     "metadata": {},
     "output_type": "execute_result"
    }
   ],
   "source": [
    "df_final = df_final[(df_final['amount'] != 0.0) & df_final['amount'].notnull()]\n",
    "df_final['country'] = 'PL'\n",
    "df_final['currency'] = 'PLN'\n",
    "df_final.head()"
   ]
  },
  {
   "cell_type": "code",
   "execution_count": 14,
   "metadata": {},
   "outputs": [],
   "source": [
    "df_final.to_csv('pl_{}.csv.gz'.format(YEAR), compression='gzip', index=False)"
   ]
  }
 ],
 "metadata": {
  "kernelspec": {
   "display_name": "Python 3 (ipykernel)",
   "language": "python",
   "name": "python3"
  },
  "language_info": {
   "codemirror_mode": {
    "name": "ipython",
    "version": 3
   },
   "file_extension": ".py",
   "mimetype": "text/x-python",
   "name": "python",
   "nbconvert_exporter": "python",
   "pygments_lexer": "ipython3",
   "version": "3.10.14"
  }
 },
 "nbformat": 4,
 "nbformat_minor": 4
}
